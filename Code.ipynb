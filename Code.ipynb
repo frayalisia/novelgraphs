{
 "cells": [
  {
   "cell_type": "markdown",
   "metadata": {},
   "source": [
    "### Preprossing"
   ]
  },
  {
   "cell_type": "code",
   "execution_count": 1,
   "metadata": {
    "collapsed": true
   },
   "outputs": [],
   "source": [
    "import re\n",
    "with open('../text/Doyl/sher_eng.txt', encoding='utf-8') as file:\n",
    "    sher = file.read()\n",
    "a = sher.find('A STUDY IN SCARLET')\n",
    "b = sher.find('THE SIGN OF THE FOUR')\n",
    "study_in_scarlet = sher[a:b]\n",
    "content = re.split('PART [I]+', study_in_scarlet)[0].strip()\n",
    "part_1 = re.split('PART [I]+', study_in_scarlet)[1].strip()\n",
    "part_2 = re.split('PART [I]+', study_in_scarlet)[2].strip()\n",
    "chapters = re.split('CHAPTER [IVX]+\\n .*\\n\\n\\n', part_1)[1:7]"
   ]
  },
  {
   "cell_type": "markdown",
   "metadata": {},
   "source": [
    "### Tokenization"
   ]
  },
  {
   "cell_type": "code",
   "execution_count": 2,
   "metadata": {
    "collapsed": true
   },
   "outputs": [],
   "source": [
    "from nltk.tokenize import sent_tokenize, word_tokenize"
   ]
  },
  {
   "cell_type": "code",
   "execution_count": 3,
   "metadata": {
    "collapsed": true
   },
   "outputs": [],
   "source": [
    "def _split_into_sentences(text):\n",
    "    sentence = [i.strip() for i in sent_tokenize(text)]\n",
    "    new_sentence = [sentence[0]]\n",
    "    for s in sentence[1:]:\n",
    "        if s[0].islower():\n",
    "            new_sentence[-1] += \" \" + s\n",
    "        else:\n",
    "            new_sentence.append(s)\n",
    "    return new_sentence"
   ]
  },
  {
   "cell_type": "code",
   "execution_count": 4,
   "metadata": {
    "collapsed": true
   },
   "outputs": [],
   "source": [
    "def split_into_words(text):\n",
    "    sentence = _split_into_sentences(text)\n",
    "    return [word_tokenize(s) for s in sentence]"
   ]
  },
  {
   "cell_type": "markdown",
   "metadata": {},
   "source": [
    "### Table and indexing"
   ]
  },
  {
   "cell_type": "code",
   "execution_count": 5,
   "metadata": {
    "collapsed": true
   },
   "outputs": [],
   "source": [
    "import pandas as pd"
   ]
  },
  {
   "cell_type": "code",
   "execution_count": 6,
   "metadata": {
    "collapsed": true
   },
   "outputs": [],
   "source": [
    "def _flatten(list_of_lists):\n",
    "    return [elem for inner_list in list_of_lists for elem in inner_list]"
   ]
  },
  {
   "cell_type": "code",
   "execution_count": 7,
   "metadata": {
    "collapsed": true
   },
   "outputs": [],
   "source": [
    "def index_table(splited_sent):\n",
    "    lengths = [len(s) for s in splited_sent]\n",
    "    sentence_id = _flatten([[i] * length for i, length in enumerate(lengths)])\n",
    "    token_id = _flatten([list(range(length)) for length in lengths])\n",
    "    tokens = _flatten(splited_sent)\n",
    "    return pd.DataFrame({'SentenceID' : sentence_id, 'TokenID' : token_id, 'Token' : tokens},\n",
    "                                columns=['SentenceID', 'TokenID', 'Token'])"
   ]
  },
  {
   "cell_type": "markdown",
   "metadata": {},
   "source": [
    "### Speech marks"
   ]
  },
  {
   "cell_type": "code",
   "execution_count": 8,
   "metadata": {
    "collapsed": true
   },
   "outputs": [],
   "source": [
    "def _qspeech(token):\n",
    "    '''Checking the instances of speech'''\n",
    "    if token == \"''\" or token == \"``\":\n",
    "        return True\n",
    "    else:\n",
    "        return False\n",
    "\n",
    "def _qspeech_ht(token):\n",
    "    '''Marking heads and tails in speech'''\n",
    "    if token == \"''\":\n",
    "        return \"TAIL\"\n",
    "    elif token == \"``\":\n",
    "        return \"HEAD\"\n",
    "    else:\n",
    "        return \"\""
   ]
  },
  {
   "cell_type": "code",
   "execution_count": 9,
   "metadata": {
    "collapsed": true
   },
   "outputs": [],
   "source": [
    "def add_speech_marks(table):\n",
    "    table['Qspeech'] = table.Token.apply(_qspeech)\n",
    "    table['QspeechHT'] = table.Token.apply(_qspeech_ht)\n",
    "    # return table"
   ]
  },
  {
   "cell_type": "markdown",
   "metadata": {},
   "source": [
    "### classic NER"
   ]
  },
  {
   "cell_type": "code",
   "execution_count": 10,
   "metadata": {
    "collapsed": true
   },
   "outputs": [],
   "source": [
    "import pickle\n",
    "import subprocess\n",
    "import pandas as pd"
   ]
  },
  {
   "cell_type": "code",
   "execution_count": 11,
   "metadata": {
    "collapsed": true
   },
   "outputs": [],
   "source": [
    "def _table_to_list(table):\n",
    "    with open('tokens.txt', 'w') as tokens_file:\n",
    "        tokens_file.write(' '.join(list(table.Token)))"
   ]
  },
  {
   "cell_type": "markdown",
   "metadata": {},
   "source": [
    "### Characters"
   ]
  },
  {
   "cell_type": "code",
   "execution_count": 12,
   "metadata": {
    "collapsed": true
   },
   "outputs": [],
   "source": [
    "def _get_heroes(text):\n",
    "    herolist = []\n",
    "\n",
    "    for i in frozenset(text.SentenceID):\n",
    "        s = text[text.SentenceID == i]\n",
    "        if s[s.QspeechHT == 'TAIL'].empty:\n",
    "            herolist.append(None)\n",
    "        else:\n",
    "            tail = s[s.QspeechHT == 'TAIL'].index[0]\n",
    "            min_id = s.index.min()\n",
    "            max_id = s.index.max()\n",
    "            if (((tail+1 <= max_id) and (s.loc[tail+1, \"Tag\"] in ['NNP', 'NN', 'PRP']) and \n",
    "                ((tail+2 <= max_id) and s.loc[tail+2, \"Tag\"] in ['VBN', 'VBD']))):\n",
    "                 herolist.append(s.loc[tail+1, \"Token\"])\n",
    "            elif (((tail+2 <= max_id) and (s.loc[tail+2, \"Tag\"] in ['NNP', 'NN', 'PRP'])) and\n",
    "                ((tail+1 <= max_id) and s.loc[tail+1, \"Tag\"] in ['VBN', 'VBD'])):\n",
    "                herolist.append(s.loc[tail+2, \"Token\"])\n",
    "            else:\n",
    "                herolist.append(None)\n",
    "    return list(set(herolist))"
   ]
  },
  {
   "cell_type": "code",
   "execution_count": 13,
   "metadata": {
    "collapsed": true
   },
   "outputs": [],
   "source": [
    "def add_characters(table):\n",
    "    hero_list = _get_heroes(table)\n",
    "    table['IsCharacter'] = table.Token.isin(hero_list)\n",
    "    # return table"
   ]
  },
  {
   "cell_type": "markdown",
   "metadata": {},
   "source": [
    "### CoreNLP"
   ]
  },
  {
   "cell_type": "code",
   "execution_count": 14,
   "metadata": {
    "collapsed": true
   },
   "outputs": [],
   "source": [
    "import urllib\n",
    "from bs4 import BeautifulSoup"
   ]
  },
  {
   "cell_type": "code",
   "execution_count": 15,
   "metadata": {
    "collapsed": true
   },
   "outputs": [],
   "source": [
    "STANFORD_CORENLP_PATH = \"./stanford-corenlp-full-2015-12-09/*\"\n",
    "\n",
    "def _corenlp_xml():\n",
    "    with open('tokenstaggexs.txt', 'w') as tagged_tokens_file:\n",
    "        subprocess.call(['java',\n",
    "                         '-Xmx2g',\n",
    "                         '-cp', STANFORD_CORENLP_PATH,\n",
    "    #                      STANFORD_NER_PATH + 'stanford-ner-2015-04-20/stanford-ner.jar',\n",
    "                         'edu.stanford.nlp.pipeline.StanfordCoreNLP',\n",
    "                         '-annotators', \n",
    "                         'tokenize,ssplit,pos,lemma,ner,parse,sentiment,mention,dcoref,natlog,quote,relation', \n",
    "                         '-tokenize.whitespace',\n",
    "    #                      '-loadClassifier', STANFORD_NER_PATH + 'stanford-ner-2015-04-20/classifiers/english.all.3class.distsim.crf.ser.gz',\n",
    "    #                      '-tokenizerFactory', 'edu.stanford.nlp.process.WhitespaceTokenizer',\n",
    "    #                      '-tokenizerOptions', '\"tokenizeNLs=true\"',\n",
    "                         '-file', 'tokens.txt',\n",
    "    #                      '-parse.originalDependencies',\n",
    "                         '-outputFormat', 'xml'], stdout=tagged_tokens_file, stderr=tagged_tokens_file)\n",
    "def _corenlp_conll():\n",
    "    with open('tokenstaggexs.txt', 'w') as tagged_tokens_file:\n",
    "        subprocess.call(['java',\n",
    "                         '-Xmx2g',\n",
    "                         '-cp', STANFORD_CORENLP_PATH,\n",
    "    #                      STANFORD_NER_PATH + 'stanford-ner-2015-04-20/stanford-ner.jar',\n",
    "                         'edu.stanford.nlp.pipeline.StanfordCoreNLP',\n",
    "                         '-annotators', \n",
    "                         'tokenize,ssplit,pos,lemma,ner,parse,sentiment,mention,dcoref,natlog,quote,relation', \n",
    "                         '-tokenize.whitespace',\n",
    "    #                      '-loadClassifier', STANFORD_NER_PATH + 'stanford-ner-2015-04-20/classifiers/english.all.3class.distsim.crf.ser.gz',\n",
    "    #                      '-tokenizerFactory', 'edu.stanford.nlp.process.WhitespaceTokenizer',\n",
    "    #                      '-tokenizerOptions', '\"tokenizeNLs=true\"',\n",
    "                         '-file', 'tokens.txt',\n",
    "    #                      '-parse.originalDependencies',\n",
    "                         '-outputFormat', 'conll'], stdout=tagged_tokens_file, stderr=tagged_tokens_file)"
   ]
  },
  {
   "cell_type": "markdown",
   "metadata": {},
   "source": [
    "### Ner-np"
   ]
  },
  {
   "cell_type": "code",
   "execution_count": 16,
   "metadata": {
    "collapsed": true
   },
   "outputs": [],
   "source": [
    "def _add_nercorenlp_id(text):\n",
    "    text['NerNpID'] = None\n",
    "    cur_id = -1\n",
    "    for s in text.SentenceID.unique():\n",
    "        sentence = text.loc[text.SentenceID == s]\n",
    "        prev_tag = None\n",
    "        for i in sentence.index:\n",
    "            cur_tag = text.loc[i, 'NERtag']\n",
    "            if cur_tag == 'O':\n",
    "                pass\n",
    "            elif cur_tag == prev_tag:\n",
    "                text.loc[i, 'NerNpID'] = cur_id\n",
    "            else:\n",
    "                cur_id += 1\n",
    "                text.loc[i, 'NerNpID'] = cur_id\n",
    "            prev_tag = cur_tag"
   ]
  },
  {
   "cell_type": "code",
   "execution_count": 17,
   "metadata": {
    "collapsed": true
   },
   "outputs": [],
   "source": [
    "def add_corenlp_conll(table):\n",
    "    _table_to_list(table)\n",
    "    _corenlp_conll()\n",
    "    data = pd.read_csv('tokens.txt.conll', sep='\\t', header=None)\n",
    "    data.columns = ['DepID', 'word', 'Lemma', 'Tag', 'NERtag', 'DepParse', 'DepRel']\n",
    "    table = pd.concat([table, data[['Lemma','Tag','NERtag','DepID', 'DepParse', 'DepRel']]], axis=1)\n",
    "    _add_nercorenlp_id(table)\n",
    "    return table"
   ]
  },
  {
   "cell_type": "code",
   "execution_count": 18,
   "metadata": {
    "collapsed": true
   },
   "outputs": [],
   "source": [
    "def _get_xml():\n",
    "    _corenlp_xml()\n",
    "    xml_file = './tokens.txt.xml'\n",
    "    return xml_file"
   ]
  },
  {
   "cell_type": "code",
   "execution_count": 19,
   "metadata": {
    "collapsed": true
   },
   "outputs": [],
   "source": [
    "def _get_sent_token_ids():\n",
    "    xml_file = _get_xml()\n",
    "    soup = BeautifulSoup(open(xml_file), 'xml')\n",
    "#     tokens_xml = soup.find_all('token')\n",
    "\n",
    "#     sent_id_xml = [n['id'] for n in soup.find_all('sentence',{\"id\":True})]\n",
    "    token_sent_id_xml = []\n",
    "    for t in soup.find_all('sentence',{\"id\":True}):\n",
    "        tokens = []\n",
    "        for a in t.find_all('token',{'id':True}):\n",
    "            tokens.append(a['id'])\n",
    "        token_sent_id_xml.append(tokens)\n",
    "    return token_sent_id_xml"
   ]
  },
  {
   "cell_type": "code",
   "execution_count": 20,
   "metadata": {
    "collapsed": true
   },
   "outputs": [],
   "source": [
    "def _get_speaker_sentiment():\n",
    "    xml_file = _get_xml()\n",
    "    soup1 = BeautifulSoup(open(xml_file))\n",
    "    t, speaker, sentiment = [], [], []\n",
    "\n",
    "    for token in soup1.find_all('token'):\n",
    "        t.append(token.word.get_text())\n",
    "        if token.speaker != None:\n",
    "            speaker.append(token.speaker.get_text())\n",
    "        else:\n",
    "            speaker.append('')\n",
    "        sentiment.append(token.sentiment.get_text())\n",
    "    return speaker, sentiment"
   ]
  },
  {
   "cell_type": "code",
   "execution_count": 21,
   "metadata": {
    "collapsed": true
   },
   "outputs": [],
   "source": [
    "def _get_coref():\n",
    "    xml_file = _get_xml()\n",
    "    soup = BeautifulSoup(open(xml_file), 'xml')\n",
    "    coref_list = []\n",
    "    for cor in soup.coreference.find_all('coreference'):\n",
    "        coref = []\n",
    "        for mention in cor.find_all('mention'):\n",
    "            sent_id = mention.sentence.get_text()\n",
    "            tok_id = mention.head.get_text()\n",
    "            coref.append((sent_id, tok_id))\n",
    "        coref_list.append(coref)\n",
    "    return coref_list"
   ]
  },
  {
   "cell_type": "code",
   "execution_count": 22,
   "metadata": {
    "collapsed": true
   },
   "outputs": [],
   "source": [
    "def _get_coref_table_sent_tok():\n",
    "    token_sent_id_xml = _get_sent_token_ids()\n",
    "    sentence_column = _flatten([[i + 1] * len(el) for i, el in enumerate(token_sent_id_xml)])\n",
    "    token_column = _flatten(token_sent_id_xml)\n",
    "    token_column = list(map(int, token_column))\n",
    "    return sentence_column, token_column\n",
    "\n",
    "def _get_coref_table():\n",
    "    sentence_column, token_column = _get_coref_table_sent_tok()\n",
    "    coref_list = _get_coref()\n",
    "    speaker, sentiment = _get_speaker_sentiment()\n",
    "    coref_data = pd.DataFrame({'SentenceID' : sentence_column, 'TokenID' : token_column})\n",
    "    coref_data.set_index(['SentenceID', 'TokenID'], inplace=True)\n",
    "    coref_data['CorefEntityID'] = None\n",
    "    \n",
    "    for i, occurences in enumerate(coref_list):\n",
    "        for sentence_id, token_id in occurences:\n",
    "            try:\n",
    "                coref_data.CorefEntityID.loc[int(sentence_id), int(token_id)] = i\n",
    "            except:\n",
    "                print(sentence_id, token_id)\n",
    "            \n",
    "    coref_data.reset_index(inplace=True)\n",
    "    coref_data['Sentiment'] = sentiment\n",
    "    coref_data['Speaker'] = speaker\n",
    "    return coref_data"
   ]
  },
  {
   "cell_type": "code",
   "execution_count": 23,
   "metadata": {
    "collapsed": true
   },
   "outputs": [],
   "source": [
    "def add_corenlp_xml(table):\n",
    "    coref_data = _get_coref_table()\n",
    "    return pd.concat([table, coref_data[['CorefEntityID', 'Sentiment', 'Speaker']]], axis=1)"
   ]
  },
  {
   "cell_type": "markdown",
   "metadata": {},
   "source": [
    "### Dialogs_ids"
   ]
  },
  {
   "cell_type": "code",
   "execution_count": 24,
   "metadata": {
    "collapsed": true
   },
   "outputs": [],
   "source": [
    "def _detect_dialogues(table):\n",
    "    sentences_with_speakers = list(set(table.loc[table.Speaker!='PER0', 'SentenceID']))\n",
    "\n",
    "    dialogues = [[sentences_with_speakers[0], None]]\n",
    "    for i in range(1, len(sentences_with_speakers)):\n",
    "        if sentences_with_speakers[i]-sentences_with_speakers[i-1] <= 3:\n",
    "            dialogues[-1][1] = sentences_with_speakers[i]\n",
    "        else:\n",
    "            dialogues.append([sentences_with_speakers[i], None])\n",
    "    return dialogues"
   ]
  },
  {
   "cell_type": "code",
   "execution_count": 25,
   "metadata": {
    "collapsed": true
   },
   "outputs": [],
   "source": [
    "def add_dialogues(table):\n",
    "    dialogues = _detect_dialogues(table)\n",
    "    table['DialogID'] = None\n",
    "    for id, dialog in enumerate(dialogues):\n",
    "        start = table[table.SentenceID == dialog[0]].index[0]\n",
    "        end = table[table.SentenceID == dialog[1]].index[-1]\n",
    "        table.loc[start:end, 'DialogID'] = id"
   ]
  },
  {
   "cell_type": "markdown",
   "metadata": {},
   "source": [
    "# Collect all"
   ]
  },
  {
   "cell_type": "code",
   "execution_count": 26,
   "metadata": {
    "collapsed": true
   },
   "outputs": [],
   "source": [
    "def main(text):\n",
    "    splitted_sent = split_into_words(text)\n",
    "    print('Text splitted into sentences --- DONE')\n",
    "    print('Text splitted into words --- DONE')\n",
    "    table = index_table(splitted_sent)\n",
    "    print('Text into table --- DONE')\n",
    "    print('Indexed table --- DONE')\n",
    "    table = add_corenlp_conll(table)\n",
    "    print(\"Corenlp Syntax\")\n",
    "    add_speech_marks(table)\n",
    "    print(\"Speech marks\")\n",
    "    add_characters(table)\n",
    "    print(\"Characters\")\n",
    "    table = add_corenlp_xml(table)\n",
    "    print(\"CoreNLP Speaker, Sentiment\")\n",
    "    add_dialogues(table)\n",
    "    print(\"Dialog ids\")\n",
    "    return table"
   ]
  },
  {
   "cell_type": "code",
   "execution_count": 27,
   "metadata": {
    "collapsed": false
   },
   "outputs": [
    {
     "name": "stdout",
     "output_type": "stream",
     "text": [
      "Text splitted into sentences --- DONE\n",
      "Text splitted into words --- DONE\n",
      "Text into table --- DONE\n",
      "Indexed table --- DONE\n",
      "Corenlp Syntax\n",
      "Speech marks\n",
      "Characters\n",
      "CoreNLP Speaker, Sentiment\n",
      "Dialog ids\n"
     ]
    }
   ],
   "source": [
    "table = main(chapters[0])"
   ]
  },
  {
   "cell_type": "code",
   "execution_count": 28,
   "metadata": {
    "collapsed": false
   },
   "outputs": [
    {
     "data": {
      "text/html": [
       "<div>\n",
       "<table border=\"1\" class=\"dataframe\">\n",
       "  <thead>\n",
       "    <tr style=\"text-align: right;\">\n",
       "      <th></th>\n",
       "      <th>SentenceID</th>\n",
       "      <th>TokenID</th>\n",
       "      <th>Token</th>\n",
       "      <th>Lemma</th>\n",
       "      <th>Tag</th>\n",
       "      <th>NERtag</th>\n",
       "      <th>DepID</th>\n",
       "      <th>DepParse</th>\n",
       "      <th>DepRel</th>\n",
       "      <th>NerNpID</th>\n",
       "      <th>Qspeech</th>\n",
       "      <th>QspeechHT</th>\n",
       "      <th>IsCharacter</th>\n",
       "      <th>CorefEntityID</th>\n",
       "      <th>Sentiment</th>\n",
       "      <th>Speaker</th>\n",
       "      <th>DialogID</th>\n",
       "    </tr>\n",
       "  </thead>\n",
       "  <tbody>\n",
       "    <tr>\n",
       "      <th>0</th>\n",
       "      <td>0</td>\n",
       "      <td>0</td>\n",
       "      <td>In</td>\n",
       "      <td>in</td>\n",
       "      <td>IN</td>\n",
       "      <td>O</td>\n",
       "      <td>1</td>\n",
       "      <td>3</td>\n",
       "      <td>case</td>\n",
       "      <td>None</td>\n",
       "      <td>False</td>\n",
       "      <td></td>\n",
       "      <td>False</td>\n",
       "      <td>None</td>\n",
       "      <td>Neutral</td>\n",
       "      <td>PER0</td>\n",
       "      <td>None</td>\n",
       "    </tr>\n",
       "    <tr>\n",
       "      <th>1</th>\n",
       "      <td>0</td>\n",
       "      <td>1</td>\n",
       "      <td>the</td>\n",
       "      <td>the</td>\n",
       "      <td>DT</td>\n",
       "      <td>DATE</td>\n",
       "      <td>2</td>\n",
       "      <td>3</td>\n",
       "      <td>det</td>\n",
       "      <td>0</td>\n",
       "      <td>False</td>\n",
       "      <td></td>\n",
       "      <td>False</td>\n",
       "      <td>None</td>\n",
       "      <td>Neutral</td>\n",
       "      <td>PER0</td>\n",
       "      <td>None</td>\n",
       "    </tr>\n",
       "    <tr>\n",
       "      <th>2</th>\n",
       "      <td>0</td>\n",
       "      <td>2</td>\n",
       "      <td>year</td>\n",
       "      <td>year</td>\n",
       "      <td>NN</td>\n",
       "      <td>DATE</td>\n",
       "      <td>3</td>\n",
       "      <td>6</td>\n",
       "      <td>nmod</td>\n",
       "      <td>0</td>\n",
       "      <td>False</td>\n",
       "      <td></td>\n",
       "      <td>False</td>\n",
       "      <td>None</td>\n",
       "      <td>Neutral</td>\n",
       "      <td>PER0</td>\n",
       "      <td>None</td>\n",
       "    </tr>\n",
       "    <tr>\n",
       "      <th>3</th>\n",
       "      <td>0</td>\n",
       "      <td>3</td>\n",
       "      <td>1878</td>\n",
       "      <td>1878</td>\n",
       "      <td>CD</td>\n",
       "      <td>DATE</td>\n",
       "      <td>4</td>\n",
       "      <td>3</td>\n",
       "      <td>nummod</td>\n",
       "      <td>0</td>\n",
       "      <td>False</td>\n",
       "      <td></td>\n",
       "      <td>False</td>\n",
       "      <td>None</td>\n",
       "      <td>Neutral</td>\n",
       "      <td>PER0</td>\n",
       "      <td>None</td>\n",
       "    </tr>\n",
       "    <tr>\n",
       "      <th>4</th>\n",
       "      <td>0</td>\n",
       "      <td>4</td>\n",
       "      <td>I</td>\n",
       "      <td>I</td>\n",
       "      <td>PRP</td>\n",
       "      <td>O</td>\n",
       "      <td>5</td>\n",
       "      <td>6</td>\n",
       "      <td>nsubj</td>\n",
       "      <td>None</td>\n",
       "      <td>False</td>\n",
       "      <td></td>\n",
       "      <td>True</td>\n",
       "      <td>0</td>\n",
       "      <td>Neutral</td>\n",
       "      <td>PER0</td>\n",
       "      <td>None</td>\n",
       "    </tr>\n",
       "  </tbody>\n",
       "</table>\n",
       "</div>"
      ],
      "text/plain": [
       "   SentenceID  TokenID Token Lemma  Tag NERtag  DepID  DepParse  DepRel  \\\n",
       "0           0        0    In    in   IN      O      1         3    case   \n",
       "1           0        1   the   the   DT   DATE      2         3     det   \n",
       "2           0        2  year  year   NN   DATE      3         6    nmod   \n",
       "3           0        3  1878  1878   CD   DATE      4         3  nummod   \n",
       "4           0        4     I     I  PRP      O      5         6   nsubj   \n",
       "\n",
       "  NerNpID Qspeech QspeechHT IsCharacter CorefEntityID Sentiment Speaker  \\\n",
       "0    None   False                 False          None   Neutral    PER0   \n",
       "1       0   False                 False          None   Neutral    PER0   \n",
       "2       0   False                 False          None   Neutral    PER0   \n",
       "3       0   False                 False          None   Neutral    PER0   \n",
       "4    None   False                  True             0   Neutral    PER0   \n",
       "\n",
       "  DialogID  \n",
       "0     None  \n",
       "1     None  \n",
       "2     None  \n",
       "3     None  \n",
       "4     None  "
      ]
     },
     "execution_count": 28,
     "metadata": {},
     "output_type": "execute_result"
    }
   ],
   "source": [
    "table.head()"
   ]
  },
  {
   "cell_type": "code",
   "execution_count": 29,
   "metadata": {
    "collapsed": false,
    "scrolled": false
   },
   "outputs": [],
   "source": [
    "# table[table.DialogID == 1][['Token', 'NERtag', 'Tag', 'IsCharacter', 'CorefEntityID', 'Speaker', 'Sentiment']].to_csv('dialog.csv', sep=';', index=False, encoding='utf-8')"
   ]
  },
  {
   "cell_type": "markdown",
   "metadata": {},
   "source": [
    "### Анафора"
   ]
  },
  {
   "cell_type": "markdown",
   "metadata": {},
   "source": [
    "- Character ID\n",
    "- полученный нером список героев, подправить\n",
    "    - словарь {Sherlock: 0}, {Holmes: 0}, {Watson : 1}, {Stamford: 2}\n",
    "    - {I : Watson} только в PER0\n",
    "- попытка разрешить анафору\n",
    "    - пройтись по таблице\n",
    "    - вытащить все токены, у которых CharID == i, и посмотреть их CorefID\n",
    "    - все множество токенов с такими же CorefID пометить соответсвующим CharID\n",
    "- смотреть в диалогах, какие charID участвуют"
   ]
  },
  {
   "cell_type": "code",
   "execution_count": 30,
   "metadata": {
    "collapsed": false
   },
   "outputs": [
    {
     "name": "stdout",
     "output_type": "stream",
     "text": [
      "Sherlock 5\n",
      "Watson 2\n",
      "Stamford 10\n",
      "Holmes 6\n"
     ]
    }
   ],
   "source": [
    "for s in set(table[table.NERtag == 'PERSON'].Token):\n",
    "    if sum(table.Token == s) > 1:\n",
    "        print(s, sum(table.Token == s))"
   ]
  },
  {
   "cell_type": "code",
   "execution_count": 31,
   "metadata": {
    "collapsed": true
   },
   "outputs": [],
   "source": [
    "char_id = {'Sherlock' : 'Sherlock', 'Holmes' : 'Sherlock', 'Watson' : 'Watson', 'Stamford' : 'Stamford'}"
   ]
  },
  {
   "cell_type": "code",
   "execution_count": 32,
   "metadata": {
    "collapsed": false
   },
   "outputs": [
    {
     "data": {
      "text/plain": [
       "Int64Index([   4,   40,   65,   83,  103,  130,  164,  178,  188,  209,  265,\n",
       "             269,  289,  319,  346,  354,  379,  424,  465,  489,  514,  521,\n",
       "             535,  539,  554,  571,  603,  610,  630,  683,  711,  774,  831,\n",
       "             892,  951, 1088, 1178, 1219, 1334, 1370, 1446, 1458, 1758, 1981,\n",
       "            2010, 2059, 2316, 2404, 2547, 2728, 2879, 2995, 3009, 3087, 3185,\n",
       "            3213, 3282, 3368],\n",
       "           dtype='int64')"
      ]
     },
     "execution_count": 32,
     "metadata": {},
     "output_type": "execute_result"
    }
   ],
   "source": [
    "table[(table.Speaker == 'PER0') & (table.Token == 'I')].Token.index\n",
    "# То, что нужно пометить Ватсоном"
   ]
  },
  {
   "cell_type": "code",
   "execution_count": 33,
   "metadata": {
    "collapsed": true
   },
   "outputs": [],
   "source": [
    "def get_char_id(token):\n",
    "    return char_id.get(token, None)"
   ]
  },
  {
   "cell_type": "code",
   "execution_count": 34,
   "metadata": {
    "collapsed": true
   },
   "outputs": [],
   "source": [
    "table['CharID'] = table.Token.apply(get_char_id)"
   ]
  },
  {
   "cell_type": "code",
   "execution_count": 35,
   "metadata": {
    "collapsed": false
   },
   "outputs": [],
   "source": [
    "table.loc[((table.Speaker == 'PER0') & (table.Token == 'I')), 'CharID'] = 'Watson'"
   ]
  },
  {
   "cell_type": "code",
   "execution_count": 36,
   "metadata": {
    "collapsed": false
   },
   "outputs": [],
   "source": [
    "table[~table.CharID.isnull()][['CharID', 'CorefEntityID']]\n",
    "\n",
    "# a = table.loc[table.CharID == 'Watson', 'CorefEntityID'].unique()\n",
    "# table.loc[table.CorefEntityID.isin(a), 'CharID'] = 'Watson' \n",
    "\n",
    "# def get_char_id_coref(table, char_id):\n",
    "for char in set(char_id.values()):\n",
    "    a = set(table.loc[table.CharID == char, 'CorefEntityID']) - {None}\n",
    "    table.loc[table.CorefEntityID.isin(a), 'CharID'] = char "
   ]
  },
  {
   "cell_type": "code",
   "execution_count": 37,
   "metadata": {
    "collapsed": true
   },
   "outputs": [],
   "source": [
    "# get_char_id_coref(table, char_id)"
   ]
  },
  {
   "cell_type": "code",
   "execution_count": 38,
   "metadata": {
    "collapsed": false
   },
   "outputs": [],
   "source": [
    "table[['Token', 'CharID']].to_csv('chars.csv', sep=';', index=False)"
   ]
  },
  {
   "cell_type": "markdown",
   "metadata": {},
   "source": [
    "#### Synonyms for say (шеф хотел, чтобы я их нашла и лучше запрогала разбивку на предложения)"
   ]
  },
  {
   "cell_type": "code",
   "execution_count": 39,
   "metadata": {
    "collapsed": false
   },
   "outputs": [],
   "source": [
    "from urllib.request import urlopen\n",
    "\n",
    "url = 'http://www.synonyms-antonyms.com/synonyms-for-said.html'\n",
    "soup = BeautifulSoup(urlopen(url))"
   ]
  },
  {
   "cell_type": "code",
   "execution_count": 40,
   "metadata": {
    "collapsed": false
   },
   "outputs": [],
   "source": [
    "words = [t[0].next.text for t in [y.find_all('strong') for y in soup.find_all('tbody')[1:-5]]]"
   ]
  },
  {
   "cell_type": "code",
   "execution_count": 41,
   "metadata": {
    "collapsed": false
   },
   "outputs": [],
   "source": [
    "words = [a.strip() for w in [w.split('\\n') for w in words] for a in w]\n",
    "\n",
    "with open('list_of_words.txt', 'w') as tokens_file:\n",
    "    tokens_file.write(' '.join(words))\n",
    "\n",
    "def _corenlp_conll2():\n",
    "    with open('tokenstaggexs.txt', 'w') as tagged_tokens_file:\n",
    "        subprocess.call(['java',\n",
    "                         '-Xmx2g',\n",
    "                         '-cp', STANFORD_CORENLP_PATH,\n",
    "                         'edu.stanford.nlp.pipeline.StanfordCoreNLP',\n",
    "                         '-annotators', \n",
    "                         'tokenize,ssplit,pos,lemma',\n",
    "                         '-tokenize.whitespace',\n",
    "                         '-file', 'list_of_words.txt',\n",
    "                         '-outputFormat', 'conll'], stdout=tagged_tokens_file, stderr=tagged_tokens_file)    "
   ]
  },
  {
   "cell_type": "code",
   "execution_count": 42,
   "metadata": {
    "collapsed": false
   },
   "outputs": [],
   "source": [
    "_corenlp_conll2()\n",
    "data = pd.read_csv('list_of_words.txt.conll', sep='\\t', header=None)"
   ]
  },
  {
   "cell_type": "code",
   "execution_count": 43,
   "metadata": {
    "collapsed": false
   },
   "outputs": [],
   "source": [
    "words = (' '.join(data[2])).split(' ')\n",
    "# getting say-words from url"
   ]
  },
  {
   "cell_type": "code",
   "execution_count": 44,
   "metadata": {
    "collapsed": false
   },
   "outputs": [],
   "source": [
    "words;"
   ]
  },
  {
   "cell_type": "code",
   "execution_count": 45,
   "metadata": {
    "collapsed": false
   },
   "outputs": [
    {
     "data": {
      "text/plain": [
       "Int64Index([ 742,  773,  802,  824,  830,  855,  863,  883,  891,  945,  950,\n",
       "             986, 1007, 1024, 1034, 1077, 1086, 1163, 1177, 1209, 1218, 1282,\n",
       "            1293, 1329, 1333, 1393, 1429, 1445, 1457, 1501, 1512, 1608, 1614,\n",
       "            1649, 1655, 1680, 1693, 1722, 1896, 1930, 1956, 1968, 1999, 2009,\n",
       "            2019, 2047, 2058, 2066, 2102, 2135, 2221, 2276, 2304, 2315, 2399,\n",
       "            2403, 2508, 2546, 2620, 2632, 2659, 2671, 2696, 2717, 2755, 2814,\n",
       "            2841, 2868, 2878, 2904, 2910, 2994, 3008, 3061, 3073, 3086, 3105,\n",
       "            3114, 3145, 3153, 3172, 3183, 3212, 3237, 3253, 3272, 3281, 3318,\n",
       "            3327, 3363, 3367],\n",
       "           dtype='int64')"
      ]
     },
     "execution_count": 45,
     "metadata": {},
     "output_type": "execute_result"
    }
   ],
   "source": [
    "table.TokenID[table.QspeechHT == 'TAIL'].index"
   ]
  },
  {
   "cell_type": "code",
   "execution_count": 46,
   "metadata": {
    "collapsed": false
   },
   "outputs": [],
   "source": [
    "sp3k = []\n",
    "for s in table.TokenID[table.QspeechHT == 'TAIL'].index:\n",
    "    if table.Tag.loc[s+1] in ['VBN', 'VBD']:\n",
    "        sp3k.append(table.Lemma.loc[s+1])\n",
    "    elif table.Tag.loc[s+2] in ['VBN', 'VBD']:\n",
    "        sp3k.append(table.Lemma.loc[s+2])"
   ]
  },
  {
   "cell_type": "code",
   "execution_count": 47,
   "metadata": {
    "collapsed": false
   },
   "outputs": [
    {
     "data": {
      "text/plain": [
       "{'add',\n",
       " 'answer',\n",
       " 'ask',\n",
       " 'continue',\n",
       " 'cry',\n",
       " 'do',\n",
       " 'give',\n",
       " 'have',\n",
       " 'hold',\n",
       " 'laugh',\n",
       " 'murmur',\n",
       " 'remark',\n",
       " 'return',\n",
       " 'say',\n",
       " 'seize',\n",
       " 'shout'}"
      ]
     },
     "execution_count": 47,
     "metadata": {},
     "output_type": "execute_result"
    }
   ],
   "source": [
    "set([el.lower() for el in sp3k])"
   ]
  },
  {
   "cell_type": "markdown",
   "metadata": {},
   "source": [
    "#### Посчитать количество фраз в диалоговом окне (--- вес ребра)"
   ]
  },
  {
   "cell_type": "code",
   "execution_count": 48,
   "metadata": {
    "collapsed": true
   },
   "outputs": [],
   "source": [
    "from collections import Counter"
   ]
  },
  {
   "cell_type": "code",
   "execution_count": 49,
   "metadata": {
    "collapsed": false
   },
   "outputs": [
    {
     "data": {
      "text/plain": [
       "94"
      ]
     },
     "execution_count": 49,
     "metadata": {},
     "output_type": "execute_result"
    }
   ],
   "source": [
    "len(set(table[table.DialogID == 1]['SentenceID']))"
   ]
  },
  {
   "cell_type": "markdown",
   "metadata": {},
   "source": [
    "#### Посчитать количество употреблений в окне героя (--- вес узла)"
   ]
  },
  {
   "cell_type": "code",
   "execution_count": 50,
   "metadata": {
    "collapsed": false
   },
   "outputs": [
    {
     "name": "stderr",
     "output_type": "stream",
     "text": [
      "/opt/local/Library/Frameworks/Python.framework/Versions/3.4/lib/python3.4/site-packages/pandas/core/frame.py:1942: UserWarning: Boolean Series key will be reindexed to match DataFrame index.\n",
      "  \"DataFrame index.\", UserWarning)\n"
     ]
    },
    {
     "data": {
      "text/plain": [
       "Counter({'I': 43, 'Sherlock': 4, 'Stamford': 5, 'he': 22})"
      ]
     },
     "execution_count": 50,
     "metadata": {},
     "output_type": "execute_result"
    }
   ],
   "source": [
    "Counter(table[table.DialogID == 1][table.IsCharacter == True]['Lemma'])\n",
    "# Надо учесть, что I может принадлежать разным сущностям!!!!"
   ]
  },
  {
   "cell_type": "markdown",
   "metadata": {},
   "source": [
    "####  Посчитать «средний» сентимент окна (--- вес ребра)"
   ]
  },
  {
   "cell_type": "code",
   "execution_count": 51,
   "metadata": {
    "collapsed": false
   },
   "outputs": [
    {
     "name": "stderr",
     "output_type": "stream",
     "text": [
      "/opt/local/Library/Frameworks/Python.framework/Versions/3.4/lib/python3.4/site-packages/pandas/core/frame.py:1942: UserWarning: Boolean Series key will be reindexed to match DataFrame index.\n",
      "  \"DataFrame index.\", UserWarning)\n"
     ]
    }
   ],
   "source": [
    "sentiment_t = table[table.DialogID == 1][table.Sentiment != 'Neutral']['Sentiment']"
   ]
  },
  {
   "cell_type": "code",
   "execution_count": 52,
   "metadata": {
    "collapsed": false
   },
   "outputs": [
    {
     "data": {
      "text/plain": [
       "0.69166666666666665"
      ]
     },
     "execution_count": 52,
     "metadata": {},
     "output_type": "execute_result"
    }
   ],
   "source": [
    "sum(sentiment_t.isin(['Positive', 'Very positive'])) / len(sentiment_t)"
   ]
  },
  {
   "cell_type": "markdown",
   "metadata": {
    "collapsed": true
   },
   "source": [
    "### Do you want some graphs?"
   ]
  },
  {
   "cell_type": "code",
   "execution_count": 53,
   "metadata": {
    "collapsed": true
   },
   "outputs": [],
   "source": [
    "import networkx as nx\n",
    "from itertools import combinations\n",
    "from collections import defaultdict\n",
    "import matplotlib.pyplot as plt\n",
    "%matplotlib inline"
   ]
  },
  {
   "cell_type": "code",
   "execution_count": 54,
   "metadata": {
    "collapsed": true
   },
   "outputs": [],
   "source": [
    "conv_graph = nx.Graph()"
   ]
  },
  {
   "cell_type": "code",
   "execution_count": 55,
   "metadata": {
    "collapsed": false
   },
   "outputs": [],
   "source": [
    "n_dialigues = set([t for t in table.DialogID if t is not None])"
   ]
  },
  {
   "cell_type": "code",
   "execution_count": 56,
   "metadata": {
    "collapsed": false
   },
   "outputs": [
    {
     "name": "stderr",
     "output_type": "stream",
     "text": [
      "/opt/local/Library/Frameworks/Python.framework/Versions/3.4/lib/python3.4/site-packages/pandas/core/frame.py:1942: UserWarning: Boolean Series key will be reindexed to match DataFrame index.\n",
      "  \"DataFrame index.\", UserWarning)\n"
     ]
    }
   ],
   "source": [
    "heroes = []\n",
    "for i in frozenset([t for t in table.DialogID if t is not None]):\n",
    "    act = []\n",
    "    for x in Counter(table[table.DialogID == i][table.IsCharacter == True]['Lemma']):\n",
    "        if Counter(table[table.DialogID == i][table.IsCharacter == True]['Lemma'])[x] > 1:\n",
    "            act.append(x)\n",
    "    heroes.append(act)"
   ]
  },
  {
   "cell_type": "code",
   "execution_count": 57,
   "metadata": {
    "collapsed": false
   },
   "outputs": [
    {
     "data": {
      "text/plain": [
       "[('he', 'I', 'Stamford'), ('Sherlock', 'he', 'I', 'Stamford')]"
      ]
     },
     "execution_count": 57,
     "metadata": {},
     "output_type": "execute_result"
    }
   ],
   "source": [
    "heroes = [tuple(h) for h in heroes]\n",
    "heroes"
   ]
  },
  {
   "cell_type": "code",
   "execution_count": 58,
   "metadata": {
    "collapsed": false
   },
   "outputs": [],
   "source": [
    "edges = [defaultdict(int) for _ in range(len(n_dialigues))]\n",
    "for i in n_dialigues:\n",
    "    for pair in combinations(heroes[i], 2):\n",
    "        edges[i][frozenset(pair)]"
   ]
  },
  {
   "cell_type": "code",
   "execution_count": 59,
   "metadata": {
    "collapsed": false
   },
   "outputs": [
    {
     "data": {
      "text/plain": [
       "[defaultdict(int,\n",
       "             {frozenset({'I', 'Stamford'}): 0,\n",
       "              frozenset({'Stamford', 'he'}): 0,\n",
       "              frozenset({'I', 'he'}): 0}),\n",
       " defaultdict(int,\n",
       "             {frozenset({'I', 'Stamford'}): 0,\n",
       "              frozenset({'I', 'Sherlock'}): 0,\n",
       "              frozenset({'Sherlock', 'he'}): 0,\n",
       "              frozenset({'Sherlock', 'Stamford'}): 0,\n",
       "              frozenset({'Stamford', 'he'}): 0,\n",
       "              frozenset({'I', 'he'}): 0})]"
      ]
     },
     "execution_count": 59,
     "metadata": {},
     "output_type": "execute_result"
    }
   ],
   "source": [
    "edges"
   ]
  },
  {
   "cell_type": "code",
   "execution_count": 60,
   "metadata": {
    "collapsed": false
   },
   "outputs": [],
   "source": [
    "# he = set(table[['Lemma', 'CorefEntityID']][table.DialogID==0][table.Lemma == 'he'].CorefEntityID)\n",
    "# stamford = set(table[['Lemma', 'CorefEntityID']][table.DialogID==0][table.Lemma == 'Stamford'].CorefEntityID)\n",
    "# i = set(table[['Lemma', 'CorefEntityID']][table.DialogID==0][table.Lemma == 'I'].CorefEntityID)\n",
    "# print(stamford & he)\n",
    "# print(he & i)\n",
    "# print(i & stamford)"
   ]
  },
  {
   "cell_type": "code",
   "execution_count": 61,
   "metadata": {
    "collapsed": false
   },
   "outputs": [],
   "source": [
    "# he = set(table[['Lemma', 'CorefEntityID']][table.DialogID==1][table.Lemma == 'he'].CorefEntityID)\n",
    "# stamford = set(table[['Lemma', 'CorefEntityID']][table.DialogID==1][table.Lemma == 'Stamford'].CorefEntityID)\n",
    "# i = set(table[['Lemma', 'CorefEntityID']][table.DialogID==1][table.Lemma == 'I'].CorefEntityID)\n",
    "# sher = set(table[['Lemma', 'CorefEntityID']][table.DialogID==1][table.Lemma == 'Holmes'].CorefEntityID)\n",
    "# print(stamford & he)\n",
    "# print(he & i)\n",
    "# print(i & sher)\n",
    "# print(sher & he)\n",
    "# print(sher)\n",
    "# print(stamford)"
   ]
  },
  {
   "cell_type": "code",
   "execution_count": 62,
   "metadata": {
    "collapsed": false
   },
   "outputs": [],
   "source": [
    "# table[['Lemma', 'CorefEntityID']][table.DialogID==1][table.Lemma == 'Holmes']"
   ]
  },
  {
   "cell_type": "code",
   "execution_count": 63,
   "metadata": {
    "collapsed": false
   },
   "outputs": [
    {
     "name": "stdout",
     "output_type": "stream",
     "text": [
      "Name: \n",
      "Type: Graph\n",
      "Number of nodes: 4\n",
      "Number of edges: 6\n",
      "Average degree:   3.0000\n"
     ]
    }
   ],
   "source": [
    "# сделать список тex, кто с кем вступал в переговоры\n",
    "\n",
    "d = 1\n",
    "for edge in edges[d]:\n",
    "    conv_graph.add_edge(*edge)\n",
    "\n",
    "print(nx.info(conv_graph))"
   ]
  },
  {
   "cell_type": "code",
   "execution_count": 64,
   "metadata": {
    "collapsed": false
   },
   "outputs": [
    {
     "name": "stderr",
     "output_type": "stream",
     "text": [
      "/opt/local/Library/Frameworks/Python.framework/Versions/3.4/lib/python3.4/site-packages/matplotlib/collections.py:650: FutureWarning: elementwise comparison failed; returning scalar instead, but in the future will perform elementwise comparison\n",
      "  if self._edgecolors_original != str('face'):\n",
      "/opt/local/Library/Frameworks/Python.framework/Versions/3.4/lib/python3.4/site-packages/matplotlib/collections.py:590: FutureWarning: elementwise comparison failed; returning scalar instead, but in the future will perform elementwise comparison\n",
      "  if self._edgecolors == str('face'):\n"
     ]
    },
    {
     "data": {
      "image/png": "[encoded data removed]",
      "text/plain": [
       "<matplotlib.figure.Figure at 0x113e078d0>"
      ]
     },
     "metadata": {},
     "output_type": "display_data"
    }
   ],
   "source": [
    "plt.figure(figsize=(10,10))\n",
    "plt.axis('off')\n",
    "# weights = graph_weights(conv_graph)\n",
    "nx.draw_networkx(conv_graph,\n",
    "                 node_size=1200,\n",
    "                 font_size=20,\n",
    "                 with_labels=True,\n",
    "#                  edge_color=weights,\n",
    "                 edge_cmap=plt.cm.jet)\n",
    "#                  edge_vmax = max(weights), edge_vmin=min(weights), alpha=0.7)"
   ]
  },
  {
   "cell_type": "code",
   "execution_count": 75,
   "metadata": {
    "collapsed": false
   },
   "outputs": [
    {
     "data": {
      "text/plain": [
       "221"
      ]
     },
     "execution_count": 75,
     "metadata": {},
     "output_type": "execute_result"
    }
   ],
   "source": [
    "len(table[~table.CharID.isnull()])"
   ]
  },
  {
   "cell_type": "code",
   "execution_count": 79,
   "metadata": {
    "collapsed": false
   },
   "outputs": [
    {
     "data": {
      "text/plain": [
       "0.7737556561085973"
      ]
     },
     "execution_count": 79,
     "metadata": {},
     "output_type": "execute_result"
    }
   ],
   "source": [
    "(221-50) / 221\n",
    "# количество правильно отмеченных тегов\n",
    "# но число пропущенных целей куда больше......."
   ]
  },
  {
   "cell_type": "code",
   "execution_count": null,
   "metadata": {
    "collapsed": true
   },
   "outputs": [],
   "source": []
  }
 ],
 "metadata": {
  "kernelspec": {
   "display_name": "Python 3",
   "language": "python",
   "name": "python3"
  },
  "language_info": {
   "codemirror_mode": {
    "name": "ipython",
    "version": 3
   },
   "file_extension": ".py",
   "mimetype": "text/x-python",
   "name": "python",
   "nbconvert_exporter": "python",
   "pygments_lexer": "ipython3",
   "version": "3.4.3"
  }
 },
 "nbformat": 4,
 "nbformat_minor": 0
}
