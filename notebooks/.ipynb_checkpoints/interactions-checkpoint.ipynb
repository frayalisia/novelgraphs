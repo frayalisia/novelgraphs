{
 "cells": [
  {
   "cell_type": "markdown",
   "metadata": {},
   "source": [
    "### Load module"
   ]
  },
  {
   "cell_type": "code",
   "execution_count": 2,
   "metadata": {
    "collapsed": false
   },
   "outputs": [
    {
     "ename": "ImportError",
     "evalue": "No module named 'novelgraphs'",
     "output_type": "error",
     "traceback": [
      "\u001b[0;31m---------------------------------------------------------------------------\u001b[0m",
      "\u001b[0;31mImportError\u001b[0m                               Traceback (most recent call last)",
      "\u001b[0;32m<ipython-input-2-294f4641dc49>\u001b[0m in \u001b[0;36m<module>\u001b[0;34m()\u001b[0m\n\u001b[1;32m      3\u001b[0m \u001b[0msys\u001b[0m\u001b[0;34m.\u001b[0m\u001b[0mpath\u001b[0m\u001b[0;34m.\u001b[0m\u001b[0minsert\u001b[0m\u001b[0;34m(\u001b[0m\u001b[0;36m0\u001b[0m\u001b[0;34m,\u001b[0m \u001b[0mos\u001b[0m\u001b[0;34m.\u001b[0m\u001b[0mpath\u001b[0m\u001b[0;34m.\u001b[0m\u001b[0mabspath\u001b[0m\u001b[0;34m(\u001b[0m\u001b[0;34m'../novelgraphs/'\u001b[0m\u001b[0;34m)\u001b[0m\u001b[0;34m)\u001b[0m\u001b[0;34m\u001b[0m\u001b[0m\n\u001b[1;32m      4\u001b[0m \u001b[0;34m\u001b[0m\u001b[0m\n\u001b[0;32m----> 5\u001b[0;31m \u001b[0;32mimport\u001b[0m \u001b[0mnovelgraphs\u001b[0m \u001b[0;32mas\u001b[0m \u001b[0mng\u001b[0m\u001b[0;34m\u001b[0m\u001b[0m\n\u001b[0m\u001b[1;32m      6\u001b[0m \u001b[0;34m\u001b[0m\u001b[0m\n\u001b[1;32m      7\u001b[0m \u001b[0;32mimport\u001b[0m \u001b[0mpandas\u001b[0m \u001b[0;32mas\u001b[0m \u001b[0mpd\u001b[0m\u001b[0;34m\u001b[0m\u001b[0m\n",
      "\u001b[0;31mImportError\u001b[0m: No module named 'novelgraphs'"
     ]
    }
   ],
   "source": [
    "import os\n",
    "import sys\n",
    "sys.path.insert(0, os.path.abspath('../novelgraphs/'))\n",
    "\n",
    "import novelgraphs as ng\n",
    "\n",
    "import pandas as pd\n",
    "from collections import defaultdict, Counter\n",
    "from itertools import combinations\n",
    "import networkx as nx\n",
    "from operator import itemgetter\n",
    "%matplotlib inline\n",
    "import matplotlib.pyplot as plt"
   ]
  },
  {
   "cell_type": "code",
   "execution_count": 2,
   "metadata": {
    "collapsed": true
   },
   "outputs": [],
   "source": [
    "text = pd.read_pickle('fight_text.pickle')"
   ]
  },
  {
   "cell_type": "code",
   "execution_count": 3,
   "metadata": {
    "collapsed": true
   },
   "outputs": [],
   "source": [
    "import json\n",
    "with open('say.json') as file:\n",
    "    say = json.load(file)"
   ]
  },
  {
   "cell_type": "code",
   "execution_count": 4,
   "metadata": {
    "collapsed": false
   },
   "outputs": [
    {
     "name": "stdout",
     "output_type": "stream",
     "text": [
      "CPU times: user 2min 3s, sys: 536 ms, total: 2min 4s\n",
      "Wall time: 2min 5s\n"
     ]
    }
   ],
   "source": [
    "%%time\n",
    "# corenlp = ng.annotators.CoreNLP()\n",
    "# nernpid = ng.annotators.NerNpID()\n",
    "quote = ng.annotators.Quote()\n",
    "first_person = ng.annotators.FirstPerson()\n",
    "character = ng.annotators.Character()\n",
    "dialog = ng.annotators.Dialog()\n",
    "pipeline = ng.annotators.Pipeline([quote, first_person, character, dialog])\n",
    "pipeline.annotate(text)"
   ]
  },
  {
   "cell_type": "markdown",
   "metadata": {},
   "source": [
    "# Interactions"
   ]
  },
  {
   "cell_type": "markdown",
   "metadata": {},
   "source": [
    "### Dinamic"
   ]
  },
  {
   "cell_type": "code",
   "execution_count": 1,
   "metadata": {
    "collapsed": true
   },
   "outputs": [],
   "source": [
    "def simple_interactions(table):\n",
    "    character_list = []\n",
    "    for i in table.index:\n",
    "        if table.CharacterID.loc[i] is not None:\n",
    "    #         print(table.Token.loc[i], table.SentenceID.loc[i])\n",
    "            sent_numb = table.loc[i, 'SentenceID']\n",
    "            character_list.append([table.CharacterID.loc[i], \n",
    "                                (table[table.SentenceID == sent_numb].index[0], \n",
    "                                  table[table.SentenceID == sent_numb].index[-1]), table.SentenceID.loc[i]])\n",
    "    return character_list"
   ]
  },
  {
   "cell_type": "code",
   "execution_count": 44,
   "metadata": {
    "collapsed": true
   },
   "outputs": [],
   "source": [
    "def dinamic_interaction_in_sequence(table):\n",
    "    list_of_pairs = []\n",
    "    for i in table.index:\n",
    "        if table.CharacterID.loc[i] is not None:\n",
    "            if ((table.CharacterID.loc[i+2] is not None) & \n",
    "                ((table.Pos.loc[i+1] in ['VBD', 'VBN', 'VBP']) or (table.Lemma.loc[i+1] in say))):\n",
    "                sent_numb = table.loc[i, 'SentenceID']\n",
    "                list_of_pairs.append([(table.CharacterID.loc[i], table.CharacterID.loc[i+2]), \n",
    "                                    (table[table.SentenceID == sent_numb].index[0], \n",
    "                                      table[table.SentenceID == sent_numb].index[-1])])\n",
    "    return list_of_pairs"
   ]
  },
  {
   "cell_type": "code",
   "execution_count": 46,
   "metadata": {
    "collapsed": false
   },
   "outputs": [
    {
     "data": {
      "text/plain": [
       "[(68, 10), (1238, 1241)]"
      ]
     },
     "execution_count": 46,
     "metadata": {},
     "output_type": "execute_result"
    }
   ],
   "source": [
    "(dinamic_interaction_in_sequence(text.tags))[0]"
   ]
  },
  {
   "cell_type": "code",
   "execution_count": 73,
   "metadata": {
    "collapsed": true
   },
   "outputs": [],
   "source": [
    "def dinamic_interaction_dependences(table):\n",
    "    list_of_pairs_dependences = []\n",
    "    for s in table.SentenceID.unique():\n",
    "        sentence = table.loc[table.SentenceID == s]\n",
    "        for i in sentence.index:\n",
    "            if (sentence.Pos.loc[i] in ['VBD', 'VBN', 'VBP'] or sentence.Lemma.loc[i] in say):\n",
    "                left = sentence.loc[:i-1]\n",
    "                left_el = left[~sentence.CharacterID.isnull()].index\n",
    "                right = sentence.loc[i:]\n",
    "                right_el = right[~sentence.CharacterID.isnull()].index\n",
    "                for e in left_el:\n",
    "                    if sentence.DepParse.loc[e] == sentence.TokenID.loc[i]:\n",
    "                        for r in right_el:\n",
    "                            if sentence.DepParse.loc[r] == sentence.TokenID.loc[i]:\n",
    "                                list_of_pairs_dependences.append([(sentence.CharacterID.loc[e], \n",
    "                                                                    sentence.CharacterID.loc[r]), \n",
    "                                                                  (sentence.index[0], sentence.index[-1])])\n",
    "    return list_of_pairs_dependences"
   ]
  },
  {
   "cell_type": "code",
   "execution_count": 78,
   "metadata": {
    "collapsed": false
   },
   "outputs": [],
   "source": [
    "# dinamic_interaction_dependences(text.tags)"
   ]
  },
  {
   "cell_type": "markdown",
   "metadata": {},
   "source": [
    "### Dialog\\context"
   ]
  },
  {
   "cell_type": "code",
   "execution_count": null,
   "metadata": {
    "collapsed": true
   },
   "outputs": [],
   "source": [
    "edge_weights = [defaultdict(int)]\n",
    "speakers = set()\n",
    "speaker_list = []\n",
    "speaker_pairs = []\n",
    "\n",
    "for i in range(0, text.tags.DialogID.max()):\n",
    "    if len(set(text.tags.CharacterID[(text.tags.DialogID == i) & (~(text.tags.CharacterID.isnull()))])) > 1:\n",
    "        print(text.tags.Token[(text.tags.DialogID == i) & (~(text.tags.CharacterID.isnull()))])\n",
    "        \n",
    "        speakers.update(text.tags.Lemma[(text.tags.DialogID == i) & (~(text.tags.CharacterID.isnull()))])\n",
    "        speaker_list.append(text.tags.Lemma[(text.tags.DialogID == i) & (~(text.tags.CharacterID.isnull()))])\n",
    "        lines = len(speaker_list)\n",
    "        for pair in combinations(speakers, 2):\n",
    "            edge_weights[i][frozenset(pair)] += lines / len(speakers)\n",
    "#             edge_weights[0][frozenset(pair)] += lines / len(speakers)\n",
    "            speaker_pairs.append(pair)"
   ]
  },
  {
   "cell_type": "code",
   "execution_count": null,
   "metadata": {
    "collapsed": true
   },
   "outputs": [],
   "source": [
    "#персонажи в каждом контексте\n",
    "contextind = []\n",
    "for i in range(0, text.tags.DialogID.max()):\n",
    "    dialog_index = list(text.tags[~(text.tags.DialogID.isnull()) & (text.tags.DialogID == i)].index)\n",
    "    if dialog_index:\n",
    "        first_index, last_index = dialog_index[0], dialog_index[-1]\n",
    "        contextind.append(first_index)\n",
    "        contextind.append(last_index)\n",
    "without_context = [[0,contextind[0]]] + [contextind[1:-1][i:i+2] for i in range(0, len(contextind[1:-1]), 2)] + [[contextind[-1],text.tags.index.max()]]\n",
    "for number, el in enumerate(without_context):\n",
    "    print(number)\n",
    "    print(text.tags.Token.loc[el[0]:el[1]][(~(text.tags.CharacterID.isnull()))])"
   ]
  },
  {
   "cell_type": "code",
   "execution_count": 5,
   "metadata": {
    "collapsed": false
   },
   "outputs": [
    {
     "data": {
      "text/plain": [
       "94"
      ]
     },
     "execution_count": 5,
     "metadata": {},
     "output_type": "execute_result"
    }
   ],
   "source": [
    "text.tags.DialogID.max()"
   ]
  },
  {
   "cell_type": "code",
   "execution_count": 11,
   "metadata": {
    "collapsed": false
   },
   "outputs": [
    {
     "data": {
      "text/plain": [
       "62"
      ]
     },
     "execution_count": 11,
     "metadata": {},
     "output_type": "execute_result"
    }
   ],
   "source": [
    "text.tags[text.tags.DialogID == 0].index[0]"
   ]
  },
  {
   "cell_type": "code",
   "execution_count": 60,
   "metadata": {
    "collapsed": true
   },
   "outputs": [],
   "source": [
    "def get_interactions_from_conversation(table):\n",
    "    persons_in_dialog_list = []\n",
    "    persons_in_dialog_set = []\n",
    "    persons_in_dialog_combinations = []\n",
    "    ids = [n for el in [[table[table.DialogID == i].index[0], \n",
    "            table[table.DialogID == i].index[-1]] for i in range(table.DialogID.max())] for n in el]\n",
    "    dialog_ids = [[0,ids[0]]] + [ids[1:-1][i:i+2] for i in range(0, len(ids[1:-1]), 2)] + [[ids[-1], table.index.max()]]\n",
    "    for el in dialog_ids:\n",
    "        if len(table.CharacterID.loc[el[0]:el[1]][(~(table.CharacterID.isnull()))]) > 1:\n",
    "            persons_in_dialog_list.append([(tuple(table.CharacterID.loc[el[0]:el[1]][(~(table.CharacterID.isnull()))])),\n",
    "                              (el[0], el[1])])\n",
    "            persons_in_dialog_set.append([(tuple(set(table.CharacterID.loc[el[0]:el[1]][(~(table.CharacterID.isnull()))]))),\n",
    "                                      (el[0], el[1])])\n",
    "            speakers = set(table.CharacterID.loc[el[0]:el[1]][(~(table.CharacterID.isnull()))])\n",
    "            for pair in combinations(speakers, 2):\n",
    "                persons_in_dialog_combinations.append([(tuple(pair)), (el[0], el[1])])\n",
    "    return persons_in_dialog_list, persons_in_dialog_set, persons_in_dialog_combinations"
   ]
  },
  {
   "cell_type": "code",
   "execution_count": 21,
   "metadata": {
    "collapsed": false
   },
   "outputs": [],
   "source": [
    "ids = [n for el in [[text.tags[text.tags.DialogID == i].index[0], \n",
    "            text.tags[text.tags.DialogID == i].index[-1]] for i in range(text.tags.DialogID.max())] for n in el]"
   ]
  },
  {
   "cell_type": "code",
   "execution_count": 22,
   "metadata": {
    "collapsed": false
   },
   "outputs": [
    {
     "data": {
      "text/plain": [
       "[62, 84, 181, 204, 1102]"
      ]
     },
     "execution_count": 22,
     "metadata": {},
     "output_type": "execute_result"
    }
   ],
   "source": [
    "ids[:5]"
   ]
  },
  {
   "cell_type": "code",
   "execution_count": 24,
   "metadata": {
    "collapsed": false
   },
   "outputs": [],
   "source": [
    "dialog_ids = [[0,ids[0]]] + [ids[1:-1][i:i+2] for i in range(0, len(ids[1:-1]), 2)] + [[ids[-1],text.tags.index.max()]]"
   ]
  },
  {
   "cell_type": "code",
   "execution_count": 26,
   "metadata": {
    "collapsed": false
   },
   "outputs": [
    {
     "data": {
      "text/plain": [
       "[[0, 62], [84, 181], [204, 1102], [1125, 1499], [1565, 1622]]"
      ]
     },
     "execution_count": 26,
     "metadata": {},
     "output_type": "execute_result"
    }
   ],
   "source": [
    "dialog_ids[:5]"
   ]
  },
  {
   "cell_type": "code",
   "execution_count": 55,
   "metadata": {
    "collapsed": false
   },
   "outputs": [],
   "source": [
    "# persons_in_dialog = []\n",
    "# for el in dialog_ids:\n",
    "#     if len(text.tags.CharacterID.loc[el[0]:el[1]][(~(text.tags.CharacterID.isnull()))]) > 1:\n",
    "#         persons_in_dialog.append([(tuple(set(text.tags.CharacterID.loc[el[0]:el[1]][(~(text.tags.CharacterID.isnull()))]))),\n",
    "#                                   (el[0], el[1])])\n",
    "#         print((text.tags.CharacterID.loc[el[0]:el[1]][(~(text.tags.CharacterID.isnull()))]))"
   ]
  },
  {
   "cell_type": "code",
   "execution_count": 61,
   "metadata": {
    "collapsed": true
   },
   "outputs": [],
   "source": [
    "dl, ds, dc = get_interactions_from_conversation(text.tags)"
   ]
  },
  {
   "cell_type": "code",
   "execution_count": 66,
   "metadata": {
    "collapsed": false
   },
   "outputs": [
    {
     "data": {
      "text/plain": [
       "[[(10, 10, 10, 68, 68, 10, 10), (0, 62)],\n",
       " [(68, 10, 68, 10, 10, 68, 10, 68, 10, 10), (204, 1102)],\n",
       " [(68,\n",
       "   68,\n",
       "   10,\n",
       "   68,\n",
       "   15,\n",
       "   15,\n",
       "   68,\n",
       "   10,\n",
       "   10,\n",
       "   15,\n",
       "   15,\n",
       "   68,\n",
       "   15,\n",
       "   10,\n",
       "   15,\n",
       "   10,\n",
       "   68,\n",
       "   39,\n",
       "   68,\n",
       "   10,\n",
       "   68,\n",
       "   68,\n",
       "   68,\n",
       "   68,\n",
       "   14,\n",
       "   43,\n",
       "   14,\n",
       "   14,\n",
       "   14,\n",
       "   14),\n",
       "  (1125, 1499)],\n",
       " [(14, 68, 14, 68), (1565, 1622)],\n",
       " [(68, 68, 68, 68, 68, 15, 15, 14, 14, 68, 14, 68, 14), (1645, 1983)]]"
      ]
     },
     "execution_count": 66,
     "metadata": {},
     "output_type": "execute_result"
    }
   ],
   "source": [
    "dl[:5]"
   ]
  },
  {
   "cell_type": "code",
   "execution_count": 48,
   "metadata": {
    "collapsed": false
   },
   "outputs": [
    {
     "data": {
      "text/plain": [
       "[[(10, 68), (0, 62)],\n",
       " [(10, 68), (204, 1102)],\n",
       " [(68, 39, 10, 43, 14, 15), (1125, 1499)],\n",
       " [(68, 14), (1565, 1622)],\n",
       " [(68, 14, 15), (1645, 1983)],\n",
       " [(68, 14), (2003, 2293)],\n",
       " [(65, 34, 35, 68, 41, 14), (2319, 3340)],\n",
       " [(57, 43, 68, 14, 31), (3476, 3858)],\n",
       " [(68, 14, 15), (3891, 4113)],\n",
       " [(8, 10, 68, 15), (4165, 5004)],\n",
       " [(0, 1, 68, 8, 40, 10, 28), (5015, 6855)],\n",
       " [(67, 68, 10, 15, 53, 56), (6902, 7303)],\n",
       " [(50, 35, 68, 4, 15), (7312, 8391)],\n",
       " [(68, 15), (8432, 8469)],\n",
       " [(15,), (8511, 8626)],\n",
       " [(10, 68, 15), (8943, 9911)],\n",
       " [(66, 68, 5, 38, 17, 22), (9925, 10641)],\n",
       " [(68,), (10664, 10810)],\n",
       " [(10, 68), (10831, 10861)],\n",
       " [(10, 68), (10957, 11119)],\n",
       " [(33, 58, 42, 68, 55), (11135, 11384)],\n",
       " [(58, 68), (11415, 11443)],\n",
       " [(10, 68), (11488, 12194)],\n",
       " [(68, 10, 47, 15, 58, 27), (13964, 15231)],\n",
       " [(10, 15), (15262, 15409)],\n",
       " [(10, 68, 15), (15516, 15711)],\n",
       " [(47, 10, 68, 15), (15721, 16224)],\n",
       " [(10, 2, 68, 15), (16237, 16382)],\n",
       " [(10, 68), (16518, 16556)],\n",
       " [(10, 15), (16568, 16605)],\n",
       " [(10,), (19248, 19316)],\n",
       " [(10, 68), (19577, 19655)],\n",
       " [(10,), (19707, 19793)],\n",
       " [(68, 15), (24598, 24710)],\n",
       " [(10, 68, 15), (24721, 24769)],\n",
       " [(68, 15), (24779, 24849)],\n",
       " [(68, 37, 15), (24854, 24926)],\n",
       " [(68, 15), (24929, 25020)],\n",
       " [(10, 15), (25029, 25052)],\n",
       " [(10, 68, 15), (25058, 25195)],\n",
       " [(10, 68, 47), (25758, 25866)],\n",
       " [(10, 68), (25900, 26710)],\n",
       " [(68, 14), (26736, 26957)],\n",
       " [(10, 68, 15), (27375, 28236)],\n",
       " [(10, 68, 15), (28256, 28560)],\n",
       " [(68, 15), (28566, 28800)],\n",
       " [(7, 10, 35, 68, 15), (28821, 29313)],\n",
       " [(68, 15), (29377, 29714)],\n",
       " [(15,), (29732, 29778)],\n",
       " [(15,), (29882, 29995)],\n",
       " [(10, 68, 15), (30024, 30158)],\n",
       " [(10, 68), (33979, 34321)],\n",
       " [(10, 68, 61), (34345, 34913)],\n",
       " [(10,), (35133, 35175)],\n",
       " [(10, 68), (35472, 35713)],\n",
       " [(10, 68), (35719, 35937)],\n",
       " [(10, 68), (35946, 36045)],\n",
       " [(10, 68), (36137, 36317)],\n",
       " [(10, 68), (36339, 36463)],\n",
       " [(10, 68), (36494, 36725)],\n",
       " [(10, 68, 14), (36781, 36978)],\n",
       " [(10, 68, 14), (37011, 37145)],\n",
       " [(68, 36, 10, 15, 51, 25), (37167, 37922)],\n",
       " [(68, 15), (38063, 38120)],\n",
       " [(68,), (38192, 38292)],\n",
       " [(15, 10, 68, 47), (38307, 38822)],\n",
       " [(47, 68, 15), (38833, 39229)],\n",
       " [(10, 68), (39305, 40105)],\n",
       " [(10, 68), (40372, 40415)],\n",
       " [(10,), (40480, 40589)],\n",
       " [(10, 68, 14), (40841, 40924)],\n",
       " [(68,), (41617, 41672)],\n",
       " [(68,), (41764, 41923)],\n",
       " [(10,), (48540, 48575)],\n",
       " [(10, 68, 15), (48640, 48786)],\n",
       " [(10, 68, 15), (48913, 48961)],\n",
       " [(15, 68, 47), (48979, 49094)],\n",
       " [(68, 6, 10, 47, 15, 48, 18, 19, 52, 63), (52620, 59233)]]"
      ]
     },
     "execution_count": 48,
     "metadata": {},
     "output_type": "execute_result"
    }
   ],
   "source": [
    "persons_in_dialog"
   ]
  },
  {
   "cell_type": "markdown",
   "metadata": {},
   "source": [
    "# Extractor"
   ]
  },
  {
   "cell_type": "markdown",
   "metadata": {},
   "source": [
    "- Static\n",
    "\n",
    "from Dinamic to Static by ***_flatten()***\n",
    "\n",
    "- n предложений (любая длина окна)"
   ]
  },
  {
   "cell_type": "markdown",
   "metadata": {},
   "source": [
    "# Aggregator"
   ]
  },
  {
   "cell_type": "code",
   "execution_count": null,
   "metadata": {
    "collapsed": true
   },
   "outputs": [],
   "source": []
  }
 ],
 "metadata": {
  "kernelspec": {
   "display_name": "Python 3",
   "language": "python",
   "name": "python3"
  },
  "language_info": {
   "codemirror_mode": {
    "name": "ipython",
    "version": 3
   },
   "file_extension": ".py",
   "mimetype": "text/x-python",
   "name": "python",
   "nbconvert_exporter": "python",
   "pygments_lexer": "ipython3",
   "version": "3.4.4"
  }
 },
 "nbformat": 4,
 "nbformat_minor": 0
}
