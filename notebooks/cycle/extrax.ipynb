{
 "cells": [
  {
   "cell_type": "code",
   "execution_count": 1,
   "metadata": {
    "collapsed": false
   },
   "outputs": [],
   "source": [
    "import os\n",
    "import sys\n",
    "sys.path.insert(0, os.path.abspath('../novelgraphs/'))\n",
    "\n",
    "import novelgraphs as ng\n",
    "\n",
    "import pandas as pd\n",
    "from collections import defaultdict, Counter\n",
    "from itertools import combinations\n",
    "import networkx as nx\n",
    "from operator import itemgetter\n",
    "%matplotlib inline\n",
    "import matplotlib.pyplot as plt\n",
    "plt.style.use('ggplot')\n",
    "from numpy import array_split\n",
    "import numpy"
   ]
  },
  {
   "cell_type": "code",
   "execution_count": 2,
   "metadata": {
    "collapsed": true
   },
   "outputs": [],
   "source": [
    "# text = pd.read_pickle('fight_text.pickle')\n",
    "# text = pd.read_pickle('table.pickle')\n",
    "text = ng.Text.from_pickle('table.pickle')"
   ]
  },
  {
   "cell_type": "code",
   "execution_count": 3,
   "metadata": {
    "collapsed": false
   },
   "outputs": [
    {
     "data": {
      "text/html": [
       "<div>\n",
       "<table border=\"1\" class=\"dataframe\">\n",
       "  <thead>\n",
       "    <tr style=\"text-align: right;\">\n",
       "      <th></th>\n",
       "      <th>SentenceID</th>\n",
       "      <th>TokenID</th>\n",
       "      <th>Token</th>\n",
       "      <th>Lemma</th>\n",
       "      <th>Pos</th>\n",
       "      <th>NER</th>\n",
       "      <th>DepParse</th>\n",
       "      <th>DepRel</th>\n",
       "      <th>NerNpID</th>\n",
       "      <th>Sentiment</th>\n",
       "      <th>QuotationID</th>\n",
       "      <th>DialogID</th>\n",
       "      <th>CharacterID</th>\n",
       "    </tr>\n",
       "  </thead>\n",
       "  <tbody>\n",
       "    <tr>\n",
       "      <th>0</th>\n",
       "      <td>0</td>\n",
       "      <td>0</td>\n",
       "      <td>A</td>\n",
       "      <td>a</td>\n",
       "      <td>DT</td>\n",
       "      <td>O</td>\n",
       "      <td>1</td>\n",
       "      <td>det</td>\n",
       "      <td>None</td>\n",
       "      <td>NaN</td>\n",
       "      <td>None</td>\n",
       "      <td>None</td>\n",
       "      <td>None</td>\n",
       "    </tr>\n",
       "    <tr>\n",
       "      <th>1</th>\n",
       "      <td>0</td>\n",
       "      <td>1</td>\n",
       "      <td>STUDY</td>\n",
       "      <td>study</td>\n",
       "      <td>NN</td>\n",
       "      <td>O</td>\n",
       "      <td>-1</td>\n",
       "      <td>ROOT</td>\n",
       "      <td>None</td>\n",
       "      <td>NaN</td>\n",
       "      <td>None</td>\n",
       "      <td>None</td>\n",
       "      <td>None</td>\n",
       "    </tr>\n",
       "    <tr>\n",
       "      <th>2</th>\n",
       "      <td>0</td>\n",
       "      <td>2</td>\n",
       "      <td>IN</td>\n",
       "      <td>in</td>\n",
       "      <td>IN</td>\n",
       "      <td>O</td>\n",
       "      <td>4</td>\n",
       "      <td>case</td>\n",
       "      <td>None</td>\n",
       "      <td>NaN</td>\n",
       "      <td>None</td>\n",
       "      <td>None</td>\n",
       "      <td>None</td>\n",
       "    </tr>\n",
       "    <tr>\n",
       "      <th>3</th>\n",
       "      <td>0</td>\n",
       "      <td>3</td>\n",
       "      <td>SCARLET</td>\n",
       "      <td>scarlet</td>\n",
       "      <td>NNP</td>\n",
       "      <td>O</td>\n",
       "      <td>4</td>\n",
       "      <td>compound</td>\n",
       "      <td>None</td>\n",
       "      <td>NaN</td>\n",
       "      <td>None</td>\n",
       "      <td>None</td>\n",
       "      <td>None</td>\n",
       "    </tr>\n",
       "    <tr>\n",
       "      <th>4</th>\n",
       "      <td>0</td>\n",
       "      <td>4</td>\n",
       "      <td>Table</td>\n",
       "      <td>table</td>\n",
       "      <td>NNP</td>\n",
       "      <td>O</td>\n",
       "      <td>1</td>\n",
       "      <td>nmod:in</td>\n",
       "      <td>None</td>\n",
       "      <td>NaN</td>\n",
       "      <td>None</td>\n",
       "      <td>None</td>\n",
       "      <td>None</td>\n",
       "    </tr>\n",
       "  </tbody>\n",
       "</table>\n",
       "</div>"
      ],
      "text/plain": [
       "   SentenceID  TokenID    Token    Lemma  Pos NER DepParse    DepRel NerNpID  \\\n",
       "0           0        0        A        a   DT   O        1       det    None   \n",
       "1           0        1    STUDY    study   NN   O       -1      ROOT    None   \n",
       "2           0        2       IN       in   IN   O        4      case    None   \n",
       "3           0        3  SCARLET  scarlet  NNP   O        4  compound    None   \n",
       "4           0        4    Table    table  NNP   O        1   nmod:in    None   \n",
       "\n",
       "   Sentiment QuotationID DialogID CharacterID  \n",
       "0        NaN        None     None        None  \n",
       "1        NaN        None     None        None  \n",
       "2        NaN        None     None        None  \n",
       "3        NaN        None     None        None  \n",
       "4        NaN        None     None        None  "
      ]
     },
     "execution_count": 3,
     "metadata": {},
     "output_type": "execute_result"
    }
   ],
   "source": [
    "text.tags.head()"
   ]
  },
  {
   "cell_type": "code",
   "execution_count": 4,
   "metadata": {
    "collapsed": false
   },
   "outputs": [],
   "source": [
    "core = ng.annotators.CoreNLP()\n",
    "np = ng.annotators.NerNpID()\n",
    "ann = ng.annotators.Sentiment()\n",
    "ann2 = ng.annotators.Dialog()\n",
    "qq = ng.annotators.Quote()\n",
    "fp = ng.annotators.FirstPerson()\n",
    "char = ng.annotators.Character()"
   ]
  },
  {
   "cell_type": "code",
   "execution_count": 6,
   "metadata": {
    "collapsed": false
   },
   "outputs": [],
   "source": [
    "# pipeline = ng.annotators.Pipeline([ann, qq, ann2, fp, char])\n",
    "# pipeline.annotate(text)"
   ]
  },
  {
   "cell_type": "code",
   "execution_count": 5,
   "metadata": {
    "collapsed": false
   },
   "outputs": [],
   "source": [
    "dialog = ng.interaction.extractors.Dialog()\n",
    "sentences = ng.interaction.extractors.Sentences()\n",
    "sent_dist = ng.interaction.extractors.SentenceDistance()\n",
    "tokens = ng.interaction.extractors.TokenDistance()\n",
    "seq = ng.interaction.extractors.TokenSequence()\n",
    "dep = ng.interaction.extractors.TokenDependencies()\n",
    "\n",
    "count = ng.interaction.aggregators.Count()\n",
    "sentiment = ng.interaction.aggregators.Sentiment()"
   ]
  },
  {
   "cell_type": "code",
   "execution_count": 57,
   "metadata": {
    "collapsed": false
   },
   "outputs": [],
   "source": [
    "novelgraph = ng.NovelGraph(dialog, sentiment)\n",
    "graph = novelgraph(text)"
   ]
  },
  {
   "cell_type": "code",
   "execution_count": 69,
   "metadata": {
    "collapsed": false
   },
   "outputs": [],
   "source": [
    "def graph_weights(graph):\n",
    "    return [edge[2]['weight'] for edge in graph.edges(data=True)]\n",
    "\n",
    "weights = graph_weights(graph)\n",
    "\n",
    "# plt.figure(figsize=(10,10))\n",
    "# plt.axis('off')\n",
    "# nx.draw_networkx(graph,\n",
    "#                  with_labels=True,\n",
    "#                  edge_color=weights,\n",
    "#                  edge_cmap=plt.cm.coolwarm,\n",
    "#                  edge_vmax = 0.5, edge_vmin=-0.5, alpha=0.6)"
   ]
  },
  {
   "cell_type": "markdown",
   "metadata": {},
   "source": [
    "### Rolling window"
   ]
  },
  {
   "cell_type": "code",
   "execution_count": 8,
   "metadata": {
    "collapsed": false
   },
   "outputs": [],
   "source": [
    "def rolling_window_slices(window_size, step, length):\n",
    "    if length <= 18000:\n",
    "        window_size = 3000\n",
    "        step = 1000\n",
    "    \n",
    "    num_slices = max((length - window_size) // step, 0)\n",
    "    return ([slice(i * step, i * step + window_size) for i in range(num_slices)] +\n",
    "             [slice(num_slices * step, length)])"
   ]
  },
  {
   "cell_type": "code",
   "execution_count": 9,
   "metadata": {
    "collapsed": false
   },
   "outputs": [
    {
     "data": {
      "text/plain": [
       "[slice(0, 10000, None),\n",
       " slice(2000, 12000, None),\n",
       " slice(4000, 14000, None),\n",
       " slice(6000, 16000, None),\n",
       " slice(8000, 18000, None)]"
      ]
     },
     "execution_count": 9,
     "metadata": {},
     "output_type": "execute_result"
    }
   ],
   "source": [
    "rolling_window_slices(10000, 2000, len(text.tags))[:5]"
   ]
  },
  {
   "cell_type": "markdown",
   "metadata": {},
   "source": [
    "### Negative graph plot"
   ]
  },
  {
   "cell_type": "code",
   "execution_count": null,
   "metadata": {
    "collapsed": false
   },
   "outputs": [],
   "source": [
    "# num_chapters = 10\n",
    "\n",
    "# chapters = []\n",
    "# for tags in array_split(text.tags, num_chapters):\n",
    "#     chapter = ng.Text('')\n",
    "#     chapter.characters = text.characters\n",
    "#     chapter.first_person = text.first_person\n",
    "#     chapter.tags = tags\n",
    "#     chapters.append(chapter)"
   ]
  },
  {
   "cell_type": "code",
   "execution_count": 10,
   "metadata": {
    "collapsed": false
   },
   "outputs": [],
   "source": [
    "def get_chapters(window_size, step, length):\n",
    "    chapters = []\n",
    "    for slice_t in rolling_window_slices(window_size, step, length):\n",
    "        tags = text.tags.loc[slice_t]\n",
    "        chapter = ng.Text('')\n",
    "        chapter.characters = text.characters\n",
    "        chapter.first_person = text.first_person\n",
    "        chapter.tags = tags\n",
    "        chapters.append(chapter)\n",
    "    return chapters"
   ]
  },
  {
   "cell_type": "code",
   "execution_count": 70,
   "metadata": {
    "collapsed": true
   },
   "outputs": [],
   "source": [
    "chapters = get_chapters(10000, 500, len(text.tags))"
   ]
  },
  {
   "cell_type": "code",
   "execution_count": 71,
   "metadata": {
    "collapsed": false
   },
   "outputs": [],
   "source": [
    "def get_negative_sentiment_balance(chapters):\n",
    "    text_balance = []\n",
    "    for i in range(len(chapters)):\n",
    "        graph = novelgraph(chapters[i])\n",
    "        weights = graph_weights(graph)\n",
    "        if weights:\n",
    "            balance = len([p for p in weights if p < 0]) / len(weights)\n",
    "            text_balance.append(balance)\n",
    "    return text_balance"
   ]
  },
  {
   "cell_type": "code",
   "execution_count": 72,
   "metadata": {
    "collapsed": true
   },
   "outputs": [],
   "source": [
    "negative_graph = get_negative_sentiment_balance(chapters)"
   ]
  },
  {
   "cell_type": "code",
   "execution_count": 73,
   "metadata": {
    "collapsed": false
   },
   "outputs": [
    {
     "data": {
      "text/plain": [
       "[<matplotlib.lines.Line2D at 0x10dcf42b0>]"
      ]
     },
     "execution_count": 73,
     "metadata": {},
     "output_type": "execute_result"
    },
    {
     "data": {
      "image/png": "[encoded data removed]",
      "text/plain": [
       "<matplotlib.figure.Figure at 0x10e1cbac8>"
      ]
     },
     "metadata": {},
     "output_type": "display_data"
    }
   ],
   "source": [
    "plt.plot(negative_graph)"
   ]
  },
  {
   "cell_type": "markdown",
   "metadata": {
    "collapsed": true
   },
   "source": [
    "- Мера сбалансированности: отношение значений < 0 ко всем значениям => чем ближе к 1, тем несбалансированней, чем ближе к 0 - тем ближе к балансу\n",
    "    - tokens\n",
    "    - sentences\n",
    "    \n",
    "- Seq и Dep могут оказаться пустыми!\n",
    "    - seq периодически вылетает с ошибкой (добавить проверку i + 2 < len(text))\n",
    "- количество \"глав\" должно быть разным для разных произведений (например, для коротких - 5, для длинных - больше)\n",
    "- 10 хорошее количество глав, но лучше двигаться скользящим окном\n",
    "- вопрос с nan"
   ]
  },
  {
   "cell_type": "markdown",
   "metadata": {
    "collapsed": true
   },
   "source": [
    "### Balanced graph plot"
   ]
  },
  {
   "cell_type": "code",
   "execution_count": 79,
   "metadata": {
    "collapsed": false
   },
   "outputs": [],
   "source": [
    "def get_cycles_from_graph(graph):\n",
    "    cycles = []\n",
    "    for cycle in nx.cycle_basis(graph):\n",
    "        cycles.append(list(zip(cycle, cycle[1:])) + [(cycle[-1], cycle[0])])\n",
    "    return cycles\n",
    "\n",
    "def is_positive(cycle, graph):\n",
    "    negatives = 0\n",
    "    for edge in cycle:\n",
    "        if graph.edge[edge[0]][edge[1]]['weight'] < 0:\n",
    "            negatives += 1\n",
    "    return not negatives % 2\n",
    "\n",
    "def get_graph_balance(chapters):\n",
    "    '''Считаем сбалансированность графа: \n",
    "    1. выделить простые циклы из графа\n",
    "    2. определить знак цикла\n",
    "    3. находим меру сбалансированности - долю положительных циклов среди всех\n",
    "    '''\n",
    "    balance_cycle = []\n",
    "    for i in range(len(chapters)):\n",
    "        graph = novelgraph(chapters[i])\n",
    "        graph_cycles = get_cycles_from_graph(graph)\n",
    "#         print(len(graph_cycles))\n",
    "        balance = numpy.mean(\n",
    "            [is_positive(cycle, graph) for cycle in graph_cycles])\n",
    "        balance_cycle.append(balance)\n",
    "#     print(balance_cycle) \n",
    "    return balance_cycle"
   ]
  },
  {
   "cell_type": "code",
   "execution_count": 80,
   "metadata": {
    "collapsed": false
   },
   "outputs": [
    {
     "data": {
      "text/plain": [
       "[<matplotlib.lines.Line2D at 0x10d06fcf8>]"
      ]
     },
     "execution_count": 80,
     "metadata": {},
     "output_type": "execute_result"
    },
    {
     "data": {
      "image/png": "[encoded data removed]",
      "text/plain": [
       "<matplotlib.figure.Figure at 0x10d06ae48>"
      ]
     },
     "metadata": {},
     "output_type": "display_data"
    }
   ],
   "source": [
    "balance = get_graph_balance(chapters)\n",
    "plt.plot(balance, label='Balance')\n",
    "plt.plot(negative_graph, label='Negative_sent')\n",
    "# plt.legend()"
   ]
  },
  {
   "cell_type": "code",
   "execution_count": null,
   "metadata": {
    "collapsed": true
   },
   "outputs": [],
   "source": []
  }
 ],
 "metadata": {
  "kernelspec": {
   "display_name": "Python 3",
   "language": "python",
   "name": "python3"
  },
  "language_info": {
   "codemirror_mode": {
    "name": "ipython",
    "version": 3
   },
   "file_extension": ".py",
   "mimetype": "text/x-python",
   "name": "python",
   "nbconvert_exporter": "python",
   "pygments_lexer": "ipython3",
   "version": "3.4.4"
  }
 },
 "nbformat": 4,
 "nbformat_minor": 0
}
