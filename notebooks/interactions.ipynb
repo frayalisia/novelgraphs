{
 "cells": [
  {
   "cell_type": "markdown",
   "metadata": {},
   "source": [
    "### Load module"
   ]
  },
  {
   "cell_type": "code",
   "execution_count": 2,
   "metadata": {
    "collapsed": false
   },
   "outputs": [],
   "source": [
    "import os\n",
    "import sys\n",
    "# sys.path.insert(0, os.path.abspath('../novelgraphs/'))\n",
    "\n",
    "# import novelgraphs as ng\n",
    "\n",
    "import pandas as pd\n",
    "from collections import defaultdict, Counter\n",
    "from itertools import combinations\n",
    "import networkx as nx\n",
    "from operator import itemgetter\n",
    "%matplotlib inline\n",
    "import matplotlib.pyplot as plt"
   ]
  },
  {
   "cell_type": "code",
   "execution_count": 2,
   "metadata": {
    "collapsed": true
   },
   "outputs": [],
   "source": [
    "text = pd.read_pickle('fight_text.pickle')"
   ]
  },
  {
   "cell_type": "code",
   "execution_count": 3,
   "metadata": {
    "collapsed": true
   },
   "outputs": [],
   "source": [
    "import json\n",
    "with open('say.json') as file:\n",
    "    say = json.load(file)"
   ]
  },
  {
   "cell_type": "code",
   "execution_count": 4,
   "metadata": {
    "collapsed": false
   },
   "outputs": [
    {
     "name": "stdout",
     "output_type": "stream",
     "text": [
      "CPU times: user 2min 3s, sys: 536 ms, total: 2min 4s\n",
      "Wall time: 2min 5s\n"
     ]
    }
   ],
   "source": [
    "%%time\n",
    "# corenlp = ng.annotators.CoreNLP()\n",
    "# nernpid = ng.annotators.NerNpID()\n",
    "quote = ng.annotators.Quote()\n",
    "first_person = ng.annotators.FirstPerson()\n",
    "character = ng.annotators.Character()\n",
    "dialog = ng.annotators.Dialog()\n",
    "pipeline = ng.annotators.Pipeline([quote, first_person, character, dialog])\n",
    "pipeline.annotate(text)"
   ]
  },
  {
   "cell_type": "markdown",
   "metadata": {},
   "source": [
    "# Interactions"
   ]
  },
  {
   "cell_type": "markdown",
   "metadata": {},
   "source": [
    "### Dinamic"
   ]
  },
  {
   "cell_type": "code",
   "execution_count": 1,
   "metadata": {
    "collapsed": true
   },
   "outputs": [],
   "source": [
    "def simple_interactions(table):\n",
    "    ''' \n",
    "    Collect characters with context where they act (NOT PAIR LIST!)\n",
    "    >>> simple_interactions(table)\n",
    "    >>> {0: [[17160, 17169, 1184], [17160, 17169, 1184]],\n",
    "         1: [[1169, 1224, 71],\n",
    "          [1169, 1224, 71],\n",
    "          [1242, 1245, 75],\n",
    "          [1246, 1249, 76],\n",
    "          [1250, 1266, 77], ...}\n",
    "    '''\n",
    "    character_list = dict()\n",
    "    for i in table.index:\n",
    "        if table.CharacterID.loc[i] is not None:\n",
    "            sent_numb = table.loc[i, 'SentenceID']\n",
    "            character_list.setdefault(table.CharacterID.loc[i], []).append(\n",
    "                                                [table[table.SentenceID == sent_numb].index[0], \n",
    "                                                  table[table.SentenceID == sent_numb].index[-1], \n",
    "                                                     table.SentenceID.loc[i]])\n",
    "    return character_list"
   ]
  },
  {
   "cell_type": "code",
   "execution_count": null,
   "metadata": {
    "collapsed": true
   },
   "outputs": [],
   "source": [
    "def simple_interactions_sentence(table):\n",
    "    ''' Key is the SentenceID, value - list with all CharacterID's in sentence \n",
    "    >>> simple_interactions_sentence(text.tags)\n",
    "    >>> {0: [13, 13],\n",
    "         1: [13, 68],\n",
    "         2: [68, 13, 13],\n",
    "         3: [13],\n",
    "         4: [68], ...}\n",
    "    '''\n",
    "    character_list = dict()\n",
    "    for i in table.index:\n",
    "        if table.CharacterID.loc[i] is not None:\n",
    "            sent_numb = table.loc[i, 'SentenceID']\n",
    "            character_list.setdefault(table.SentenceID.loc[i], []).append(table.CharacterID.loc[i])\n",
    "    return character_list"
   ]
  },
  {
   "cell_type": "code",
   "execution_count": 44,
   "metadata": {
    "collapsed": true
   },
   "outputs": [],
   "source": [
    "def dinamic_interaction_in_sequence(table):\n",
    "    '''\n",
    "    Collect pairs in the sentence where verb is between elements of pair\n",
    "    >>> dinamic_interaction_in_sequence(text.tags)\n",
    "    >>> {(1, 13): [[15560, 15594]],\n",
    "         (13, 1): [[15002, 15030], [15526, 15559], [23530, 23545], [56694, 56697]],\n",
    "         (13, 17): [[37049, 37066]],\n",
    "         (13, 68): [[6647, 6658]],\n",
    "         (68, 1): [[1733, 1740], ...}\n",
    "    '''\n",
    "    list_of_pairs = dict()\n",
    "    for i in table.index:\n",
    "        if table.CharacterID.loc[i] is not None:\n",
    "            if ((table.CharacterID.loc[i+2] is not None) & \n",
    "                ((table.Pos.loc[i+1] in ['VBD', 'VBN', 'VBP']) or (table.Lemma.loc[i+1] in say))):\n",
    "                sent_numb = table.loc[i, 'SentenceID']\n",
    "                list_of_pairs.setdefault((table.CharacterID.loc[i], table.CharacterID.loc[i+2]), []).append(\n",
    "                                            [table[table.SentenceID == sent_numb].index[0], \n",
    "                                              table[table.SentenceID == sent_numb].index[-1]])\n",
    "    return list_of_pairs"
   ]
  },
  {
   "cell_type": "code",
   "execution_count": 73,
   "metadata": {
    "collapsed": true
   },
   "outputs": [],
   "source": [
    "def dinamic_interaction_dependences(table):\n",
    "    '''\n",
    "    Collect pairs where one element is on the right from verb, another - on the left\n",
    "    >>> dinamic_interaction_dependences(text.tags)\n",
    "    >>> {(1, 13): [[23655, 23660], [46428, 46434], [49695, 49716]],\n",
    "         (13, 1): [[56694, 56697]],\n",
    "         (55, 3): [[6367, 6398]],\n",
    "         (58, 60): [[21642, 21653]],\n",
    "         (68, 1): [[1169, 1224], ...}\n",
    "    '''\n",
    "    list_of_pairs_dependences = dict()\n",
    "    for s in table.SentenceID.unique():\n",
    "        sentence = table.loc[table.SentenceID == s]\n",
    "        for i in sentence.index:\n",
    "            if (sentence.Pos.loc[i] in ['VBD', 'VBN', 'VBP'] or sentence.Lemma.loc[i] in say):\n",
    "                left = sentence.loc[:i-1]\n",
    "                left_el = left[~sentence.CharacterID.isnull()].index\n",
    "                right = sentence.loc[i:]\n",
    "                right_el = right[~sentence.CharacterID.isnull()].index\n",
    "                for e in left_el:\n",
    "                    if sentence.DepParse.loc[e] == sentence.TokenID.loc[i]:\n",
    "                        for r in right_el:\n",
    "                            if sentence.DepParse.loc[r] == sentence.TokenID.loc[i]:\n",
    "                                list_of_pairs_dependences.setdefault((sentence.CharacterID.loc[e], \n",
    "                                                                    sentence.CharacterID.loc[r]), []).append(\n",
    "                                                                    [sentence.index[0], sentence.index[-1]])\n",
    "    return list_of_pairs_dependences"
   ]
  },
  {
   "cell_type": "markdown",
   "metadata": {},
   "source": [
    "### Dialog\\context"
   ]
  },
  {
   "cell_type": "code",
   "execution_count": 60,
   "metadata": {
    "collapsed": true
   },
   "outputs": [],
   "source": [
    "def get_interactions_from_conversation2(table):\n",
    "    '''\n",
    "    >>> dl, ds, dc = get_interactions_from_conversation2(text.tags)\n",
    "    >>> dl\n",
    "        Goes from notDialog to Dialog and collect characters in these pieces of text\n",
    "    >>> {(13, 13, 13, 68, 68, 13, 13): [[0, 62]],\n",
    "         (13, 13, 68, 68): [[40372, 40415]],\n",
    "         (13, 13, 68, 68, 13, 68, 68, 17, 68, 13, 13): [[36781, 36978]], ...}\n",
    "    \n",
    "    >>> ds\n",
    "        Goes from notDialog to Dialog and collect unique characters in these pieces of text\n",
    "    >>> {(1,): [[8511, 8626], [29732, 29778], [29882, 29995]],\n",
    "         (1, 10, 68, 13): [[4165, 5004]],\n",
    "         (1, 13): [[15262, 15409], [16568, 16605], [25029, 25052]],\n",
    "         (1, 17, 68): [[1645, 1983], [3891, 4113]], ...}\n",
    "    \n",
    "    >>> dc\n",
    "        Goes from notDialog to Dialog and collect characters in these pieces of text, makes pairs (by combinations)\n",
    "    >>> {(1, 4): [[52620, 59233]],\n",
    "         (1, 5): [[16237, 16382]],\n",
    "         (1, 8): [[52620, 59233]],\n",
    "         (1, 10): [[4165, 5004]], ...}\n",
    "    \n",
    "    '''\n",
    "    persons_in_dialog_list = dict()\n",
    "    persons_in_dialog_set = dict()\n",
    "    persons_in_dialog_combinations = dict()\n",
    "    ids = [n for el in [[table[table.DialogID == i].index[0], \n",
    "            table[table.DialogID == i].index[-1]] for i in range(table.DialogID.max())] for n in el]\n",
    "    dialog_ids = [[0,ids[0]]] + [ids[1:-1][i:i+2] for i in range(0, len(ids[1:-1]), 2)] + [[ids[-1], table.index.max()]]\n",
    "    for el in dialog_ids:\n",
    "        if len(table.CharacterID.loc[el[0]:el[1]][(~(table.CharacterID.isnull()))]) > 1:\n",
    "            persons_in_dialog_list.setdefault((tuple(table.CharacterID.loc[el[0]:el[1]][(~(table.CharacterID.isnull()))])), \n",
    "                                              []).append([el[0], el[1]])\n",
    "            persons_in_dialog_set.setdefault((tuple(set(table.CharacterID.loc[el[0]:el[1]][(~(table.CharacterID.isnull()))]))), \n",
    "                                             []).append([el[0], el[1]])\n",
    "            speakers = set(table.CharacterID.loc[el[0]:el[1]][(~(table.CharacterID.isnull()))])\n",
    "            for pair in combinations(speakers, 2):\n",
    "                persons_in_dialog_combinations.setdefault((tuple(pair)), []).append([el[0], el[1]])\n",
    "    return persons_in_dialog_list, persons_in_dialog_set, persons_in_dialog_combinations"
   ]
  },
  {
   "cell_type": "code",
   "execution_count": 61,
   "metadata": {
    "collapsed": true
   },
   "outputs": [],
   "source": [
    "dl, ds, dc = get_interactions_from_conversation(text.tags)"
   ]
  },
  {
   "cell_type": "code",
   "execution_count": 66,
   "metadata": {
    "collapsed": true
   },
   "outputs": [
    {
     "data": {
      "text/plain": [
       "[[(10, 10, 10, 68, 68, 10, 10), (0, 62)],\n",
       " [(68, 10, 68, 10, 10, 68, 10, 68, 10, 10), (204, 1102)],\n",
       " [(68,\n",
       "   68,\n",
       "   10,\n",
       "   68,\n",
       "   15,\n",
       "   15,\n",
       "   68,\n",
       "   10,\n",
       "   10,\n",
       "   15,\n",
       "   15,\n",
       "   68,\n",
       "   15,\n",
       "   10,\n",
       "   15,\n",
       "   10,\n",
       "   68,\n",
       "   39,\n",
       "   68,\n",
       "   10,\n",
       "   68,\n",
       "   68,\n",
       "   68,\n",
       "   68,\n",
       "   14,\n",
       "   43,\n",
       "   14,\n",
       "   14,\n",
       "   14,\n",
       "   14),\n",
       "  (1125, 1499)],\n",
       " [(14, 68, 14, 68), (1565, 1622)],\n",
       " [(68, 68, 68, 68, 68, 15, 15, 14, 14, 68, 14, 68, 14), (1645, 1983)]]"
      ]
     },
     "execution_count": 66,
     "metadata": {},
     "output_type": "execute_result"
    }
   ],
   "source": [
    "dl[:5]"
   ]
  },
  {
   "cell_type": "markdown",
   "metadata": {},
   "source": [
    "# Extractor"
   ]
  },
  {
   "cell_type": "markdown",
   "metadata": {},
   "source": [
    "- Static\n",
    "\n",
    "from Dinamic to Static by ***_flatten()***\n",
    "\n",
    "- n предложений (любая длина окна)"
   ]
  },
  {
   "cell_type": "markdown",
   "metadata": {},
   "source": [
    "# Aggregator"
   ]
  },
  {
   "cell_type": "code",
   "execution_count": null,
   "metadata": {
    "collapsed": true
   },
   "outputs": [],
   "source": []
  }
 ],
 "metadata": {
  "kernelspec": {
   "display_name": "Python 3",
   "language": "python",
   "name": "python3"
  },
  "language_info": {
   "codemirror_mode": {
    "name": "ipython",
    "version": 3
   },
   "file_extension": ".py",
   "mimetype": "text/x-python",
   "name": "python",
   "nbconvert_exporter": "python",
   "pygments_lexer": "ipython3",
   "version": "3.4.4"
  }
 },
 "nbformat": 4,
 "nbformat_minor": 0
}
